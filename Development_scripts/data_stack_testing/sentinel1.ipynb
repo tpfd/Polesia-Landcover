{
 "cells": [
  {
   "cell_type": "markdown",
   "metadata": {},
   "source": [
    "testing S1 imagery"
   ]
  },
  {
   "cell_type": "code",
   "execution_count": 12,
   "metadata": {},
   "outputs": [],
   "source": [
    "import pandas as pd\n",
    "import ee\n",
    "from geemap import geemap\n",
    "ee.Initialize()"
   ]
  },
  {
   "cell_type": "markdown",
   "metadata": {},
   "source": [
    "https://developers.google.com/earth-engine/datasets/catalog/COPERNICUS_S1_GRD#description"
   ]
  },
  {
   "cell_type": "markdown",
   "metadata": {},
   "source": [
    "# 1) Tom's flooding example\n",
    "Quick test vis of Tom's Cyclone Idai case study. Questions arising:\n",
    "* how important is orbital direction? possibly should be used to filter before compositing?\n",
    "* does it make sense to make monthly median composites of VH & VV data?\n",
    "* do we need to z-score before adding to model? scaling [-50,1]] will be very different to S2 wtc\n",
    "* map vis. in RGB with only 2 bands...? "
   ]
  },
  {
   "cell_type": "code",
   "execution_count": 2,
   "metadata": {},
   "outputs": [],
   "source": [
    "# RGB composite difficult with 2 band data!\n",
    "radarVis = {\n",
    "  'min': -50,\n",
    "  'max': 1,\n",
    "  'bands': ['VV','VH','VH'], \n",
    "}"
   ]
  },
  {
   "cell_type": "code",
   "execution_count": 6,
   "metadata": {},
   "outputs": [],
   "source": [
    "# Target date\n",
    "targdate = '2019-03-24'\n",
    "#targdate = '2019-05-01'\n",
    "\n",
    "# Define area of interest (AOI)\n",
    "aoi_cord_pairs = [[33.44259958627015, -18.49604760905407],\n",
    "                  [33.44259958627015, -20.664424742367366],\n",
    "                  [36.43088083627015, -20.664424742367366],\n",
    "                  [36.43088083627015, -18.49604760905407]]\n",
    "aoi = ee.Geometry.Polygon([aoi_cord_pairs])"
   ]
  },
  {
   "cell_type": "code",
   "execution_count": 64,
   "metadata": {},
   "outputs": [],
   "source": [
    "# filter collection\n",
    "# Modified version of Tom's approach\n",
    "filters = [ee.Filter.listContains(\"transmitterReceiverPolarisation\", \"VV\"),\n",
    "           ee.Filter.listContains(\"transmitterReceiverPolarisation\", \"VH\"),\n",
    "           ee.Filter.equals(\"instrumentMode\", \"IW\"),\n",
    "           #ee.Filter.bounds(aoi),   # Tom uses this, but can't make it work? ## AttributeError: type object 'Filter' has no attribute 'bounds'\n",
    "           ee.Filter.geometry(aoi),  # solution from:  https://github.com/google/earthengine-api/issues/83\n",
    "           ee.Filter.date(targdate, ee.Date(targdate).advance(1, 'month'))\n",
    "           ]\n",
    "\n",
    "s1 = s1.filter(filters)"
   ]
  },
  {
   "cell_type": "code",
   "execution_count": 47,
   "metadata": {},
   "outputs": [],
   "source": [
    "# # alternate 2 step approach...\n",
    "# s1 = ee.ImageCollection('COPERNICUS/S1_GRD') \\\n",
    "#      .filterDate(targdate, ee.Date(targdate).advance(1, 'month')) \\\n",
    "#      .filterBounds(aoi)\n",
    "\n",
    "# filters = [ee.Filter.listContains(\"transmitterReceiverPolarisation\", \"VV\"),\n",
    "#            ee.Filter.listContains(\"transmitterReceiverPolarisation\", \"VH\"),\n",
    "#            ee.Filter.equals(\"instrumentMode\", \"IW\")]\n",
    "# s1 = s1.filter(filters)"
   ]
  },
  {
   "cell_type": "code",
   "execution_count": 50,
   "metadata": {},
   "outputs": [],
   "source": [
    "# make median composites\n",
    "s1_median = s1.select('VV', 'VH').median()"
   ]
  },
  {
   "cell_type": "code",
   "execution_count": 65,
   "metadata": {
    "scrolled": false
   },
   "outputs": [
    {
     "data": {
      "application/vnd.jupyter.widget-view+json": {
       "model_id": "2625d88f5e6b4a21a94357d874842d1a",
       "version_major": 2,
       "version_minor": 0
      },
      "text/plain": [
       "Map(center=[-19.5, 35], controls=(WidgetControl(options=['position', 'transparent_bg'], widget=HBox(children=(…"
      ]
     },
     "metadata": {},
     "output_type": "display_data"
    }
   ],
   "source": [
    "#visualise \n",
    "Map = geemap.Map(center=(-19.5,35), zoom=8)\n",
    "#Map.add_basemap('OpenStreetMap.BlackAndWhite')\n",
    "Map.add_basemap('SATELLITE')\n",
    "Map.addLayer(s1_median, radarVis, 's1_median')\n",
    "Map"
   ]
  },
  {
   "cell_type": "markdown",
   "metadata": {},
   "source": [
    "# 2) Polesia Test"
   ]
  },
  {
   "cell_type": "code",
   "execution_count": 28,
   "metadata": {},
   "outputs": [],
   "source": [
    "fp_train_ext1 = \"/home/markdj/Dropbox/artio/polesia/val/Vegetation_extent_rough.shp\"\n",
    "roi_train = geemap.shp_to_ee(fp_train_ext1)\n",
    "AOI = roi_train\n",
    "\n",
    "START_DATE_LIST=['2019-01-01', '2019-02-01', \n",
    "                 '2019-03-01', '2019-04-01', \n",
    "                 '2019-05-01', '2019-06-01', \n",
    "                 '2019-07-01', '2019-08-01',\n",
    "                 '2019-09-01', '2019-10-01',\n",
    "                 '2019-11-01', '2019-12-01']\n",
    "\n",
    "START_DATE_LIST=['2018-01-01', '2018-02-01', \n",
    "                 '2018-03-01', '2018-04-01', \n",
    "                 '2018-05-01', '2018-06-01', \n",
    "                 '2018-07-01', '2018-08-01',\n",
    "                 '2018-09-01', '2018-10-01',\n",
    "                 '2018-11-01', '2018-12-01']\n",
    "\n",
    "START_DATE_LIST=[d.strftime('%Y-%m-%d') for d in pd.date_range(start='2017-01-01', end='2017-12-01', freq='MS')]\n",
    "\n",
    "\n",
    "filters = [ee.Filter.listContains(\"transmitterReceiverPolarisation\", \"VV\"),\n",
    "           ee.Filter.listContains(\"transmitterReceiverPolarisation\", \"VH\"),\n",
    "           ee.Filter.equals(\"instrumentMode\", \"IW\"),\n",
    "           ee.Filter.geometry(AOI)]\n",
    "\n",
    "def s1_mask_border_noise(img):\n",
    "    \"\"\"\n",
    "    Sentinel-1 data on GEE sometimes suffers from 'border noise' prior to May 2018 at swath edges.\n",
    "    This needs to be masked in individual images via mapping before compositing images.\n",
    "    This func is derived from the example code provided on the \n",
    "    GEE ee.ImageCollection(\"COPERNICUS/S1_GRD\") pages\n",
    "    \"\"\"\n",
    "    edge = img.lt(-30.0)\n",
    "    masked_img = img.mask().And(edge.Not())\n",
    "    return img.updateMask(masked_img)"
   ]
  },
  {
   "cell_type": "code",
   "execution_count": 25,
   "metadata": {},
   "outputs": [
    {
     "name": "stdout",
     "output_type": "stream",
     "text": [
      "2017-01-01\n",
      "2017-02-01\n",
      "2017-03-01\n",
      "2017-04-01\n",
      "2017-05-01\n",
      "2017-06-01\n",
      "2017-07-01\n",
      "2017-08-01\n",
      "2017-09-01\n",
      "2017-10-01\n",
      "2017-11-01\n",
      "2017-12-01\n"
     ]
    }
   ],
   "source": [
    "for i, START_DATE in enumerate(START_DATE_LIST):\n",
    "    print(START_DATE)\n",
    "    END_DATE = ee.Date(START_DATE).advance(1, 'month')\n",
    "    \n",
    "    #collection\n",
    "    s1 = ee.ImageCollection('COPERNICUS/S1_GRD') \\\n",
    "         .filterDate(START_DATE, END_DATE)   \n",
    "    s1 = s1.filter(filters)\n",
    "    \n",
    "    # composites\n",
    "    s1_median = (s1.select('VV', 'VH')\n",
    "                 .map(s1_mask_border_noise)\n",
    "                  .median()\n",
    "                  .clip(roi_train.geometry())\n",
    "                  .rename(f'{START_DATE[0:7]}_VV', f'{START_DATE[0:7]}_VH'))\n",
    "    \n",
    "    # stack\n",
    "    if i == 0:\n",
    "        median_stack = s1_median\n",
    "    else:\n",
    "        median_stack = median_stack.addBands(s1_median)"
   ]
  },
  {
   "cell_type": "code",
   "execution_count": 4,
   "metadata": {
    "scrolled": true
   },
   "outputs": [
    {
     "data": {
      "text/plain": [
       "{'type': 'Image',\n",
       " 'bands': [{'id': '2019-01_VV',\n",
       "   'data_type': {'type': 'PixelType', 'precision': 'double'},\n",
       "   'dimensions': [2, 2],\n",
       "   'origin': [27, 51],\n",
       "   'crs': 'EPSG:4326',\n",
       "   'crs_transform': [1, 0, 0, 0, 1, 0]},\n",
       "  {'id': '2019-01_VH',\n",
       "   'data_type': {'type': 'PixelType', 'precision': 'double'},\n",
       "   'dimensions': [2, 2],\n",
       "   'origin': [27, 51],\n",
       "   'crs': 'EPSG:4326',\n",
       "   'crs_transform': [1, 0, 0, 0, 1, 0]},\n",
       "  {'id': '2019-02_VV',\n",
       "   'data_type': {'type': 'PixelType', 'precision': 'double'},\n",
       "   'dimensions': [2, 2],\n",
       "   'origin': [27, 51],\n",
       "   'crs': 'EPSG:4326',\n",
       "   'crs_transform': [1, 0, 0, 0, 1, 0]},\n",
       "  {'id': '2019-02_VH',\n",
       "   'data_type': {'type': 'PixelType', 'precision': 'double'},\n",
       "   'dimensions': [2, 2],\n",
       "   'origin': [27, 51],\n",
       "   'crs': 'EPSG:4326',\n",
       "   'crs_transform': [1, 0, 0, 0, 1, 0]},\n",
       "  {'id': '2019-03_VV',\n",
       "   'data_type': {'type': 'PixelType', 'precision': 'double'},\n",
       "   'dimensions': [2, 2],\n",
       "   'origin': [27, 51],\n",
       "   'crs': 'EPSG:4326',\n",
       "   'crs_transform': [1, 0, 0, 0, 1, 0]},\n",
       "  {'id': '2019-03_VH',\n",
       "   'data_type': {'type': 'PixelType', 'precision': 'double'},\n",
       "   'dimensions': [2, 2],\n",
       "   'origin': [27, 51],\n",
       "   'crs': 'EPSG:4326',\n",
       "   'crs_transform': [1, 0, 0, 0, 1, 0]},\n",
       "  {'id': '2019-04_VV',\n",
       "   'data_type': {'type': 'PixelType', 'precision': 'double'},\n",
       "   'dimensions': [2, 2],\n",
       "   'origin': [27, 51],\n",
       "   'crs': 'EPSG:4326',\n",
       "   'crs_transform': [1, 0, 0, 0, 1, 0]},\n",
       "  {'id': '2019-04_VH',\n",
       "   'data_type': {'type': 'PixelType', 'precision': 'double'},\n",
       "   'dimensions': [2, 2],\n",
       "   'origin': [27, 51],\n",
       "   'crs': 'EPSG:4326',\n",
       "   'crs_transform': [1, 0, 0, 0, 1, 0]},\n",
       "  {'id': '2019-05_VV',\n",
       "   'data_type': {'type': 'PixelType', 'precision': 'double'},\n",
       "   'dimensions': [2, 2],\n",
       "   'origin': [27, 51],\n",
       "   'crs': 'EPSG:4326',\n",
       "   'crs_transform': [1, 0, 0, 0, 1, 0]},\n",
       "  {'id': '2019-05_VH',\n",
       "   'data_type': {'type': 'PixelType', 'precision': 'double'},\n",
       "   'dimensions': [2, 2],\n",
       "   'origin': [27, 51],\n",
       "   'crs': 'EPSG:4326',\n",
       "   'crs_transform': [1, 0, 0, 0, 1, 0]},\n",
       "  {'id': '2019-06_VV',\n",
       "   'data_type': {'type': 'PixelType', 'precision': 'double'},\n",
       "   'dimensions': [2, 2],\n",
       "   'origin': [27, 51],\n",
       "   'crs': 'EPSG:4326',\n",
       "   'crs_transform': [1, 0, 0, 0, 1, 0]},\n",
       "  {'id': '2019-06_VH',\n",
       "   'data_type': {'type': 'PixelType', 'precision': 'double'},\n",
       "   'dimensions': [2, 2],\n",
       "   'origin': [27, 51],\n",
       "   'crs': 'EPSG:4326',\n",
       "   'crs_transform': [1, 0, 0, 0, 1, 0]},\n",
       "  {'id': '2019-07_VV',\n",
       "   'data_type': {'type': 'PixelType', 'precision': 'double'},\n",
       "   'dimensions': [2, 2],\n",
       "   'origin': [27, 51],\n",
       "   'crs': 'EPSG:4326',\n",
       "   'crs_transform': [1, 0, 0, 0, 1, 0]},\n",
       "  {'id': '2019-07_VH',\n",
       "   'data_type': {'type': 'PixelType', 'precision': 'double'},\n",
       "   'dimensions': [2, 2],\n",
       "   'origin': [27, 51],\n",
       "   'crs': 'EPSG:4326',\n",
       "   'crs_transform': [1, 0, 0, 0, 1, 0]},\n",
       "  {'id': '2019-08_VV',\n",
       "   'data_type': {'type': 'PixelType', 'precision': 'double'},\n",
       "   'dimensions': [2, 2],\n",
       "   'origin': [27, 51],\n",
       "   'crs': 'EPSG:4326',\n",
       "   'crs_transform': [1, 0, 0, 0, 1, 0]},\n",
       "  {'id': '2019-08_VH',\n",
       "   'data_type': {'type': 'PixelType', 'precision': 'double'},\n",
       "   'dimensions': [2, 2],\n",
       "   'origin': [27, 51],\n",
       "   'crs': 'EPSG:4326',\n",
       "   'crs_transform': [1, 0, 0, 0, 1, 0]},\n",
       "  {'id': '2019-09_VV',\n",
       "   'data_type': {'type': 'PixelType', 'precision': 'double'},\n",
       "   'dimensions': [2, 2],\n",
       "   'origin': [27, 51],\n",
       "   'crs': 'EPSG:4326',\n",
       "   'crs_transform': [1, 0, 0, 0, 1, 0]},\n",
       "  {'id': '2019-09_VH',\n",
       "   'data_type': {'type': 'PixelType', 'precision': 'double'},\n",
       "   'dimensions': [2, 2],\n",
       "   'origin': [27, 51],\n",
       "   'crs': 'EPSG:4326',\n",
       "   'crs_transform': [1, 0, 0, 0, 1, 0]},\n",
       "  {'id': '2019-10_VV',\n",
       "   'data_type': {'type': 'PixelType', 'precision': 'double'},\n",
       "   'dimensions': [2, 2],\n",
       "   'origin': [27, 51],\n",
       "   'crs': 'EPSG:4326',\n",
       "   'crs_transform': [1, 0, 0, 0, 1, 0]},\n",
       "  {'id': '2019-10_VH',\n",
       "   'data_type': {'type': 'PixelType', 'precision': 'double'},\n",
       "   'dimensions': [2, 2],\n",
       "   'origin': [27, 51],\n",
       "   'crs': 'EPSG:4326',\n",
       "   'crs_transform': [1, 0, 0, 0, 1, 0]},\n",
       "  {'id': '2019-11_VV',\n",
       "   'data_type': {'type': 'PixelType', 'precision': 'double'},\n",
       "   'dimensions': [2, 2],\n",
       "   'origin': [27, 51],\n",
       "   'crs': 'EPSG:4326',\n",
       "   'crs_transform': [1, 0, 0, 0, 1, 0]},\n",
       "  {'id': '2019-11_VH',\n",
       "   'data_type': {'type': 'PixelType', 'precision': 'double'},\n",
       "   'dimensions': [2, 2],\n",
       "   'origin': [27, 51],\n",
       "   'crs': 'EPSG:4326',\n",
       "   'crs_transform': [1, 0, 0, 0, 1, 0]},\n",
       "  {'id': '2019-12_VV',\n",
       "   'data_type': {'type': 'PixelType', 'precision': 'double'},\n",
       "   'dimensions': [2, 2],\n",
       "   'origin': [27, 51],\n",
       "   'crs': 'EPSG:4326',\n",
       "   'crs_transform': [1, 0, 0, 0, 1, 0]},\n",
       "  {'id': '2019-12_VH',\n",
       "   'data_type': {'type': 'PixelType', 'precision': 'double'},\n",
       "   'dimensions': [2, 2],\n",
       "   'origin': [27, 51],\n",
       "   'crs': 'EPSG:4326',\n",
       "   'crs_transform': [1, 0, 0, 0, 1, 0]}],\n",
       " 'properties': {'system:footprint': {'type': 'Polygon',\n",
       "   'coordinates': [[[27.390896512881636, 52.215894288509645],\n",
       "     [27.28375045749374, 52.17067849106585],\n",
       "     [27.217915678498112, 52.08718415794678],\n",
       "     [27.082028498028603, 52.0206605622657],\n",
       "     [27.09223557538949, 51.768417042850544],\n",
       "     [27.093075989215286, 51.762196363393066],\n",
       "     [27.195028318147536, 51.764056546432464],\n",
       "     [27.20097339223106, 51.66187841476993],\n",
       "     [27.205637915327618, 51.658098556014586],\n",
       "     [27.248198574557552, 51.65881038942167],\n",
       "     [27.258349030698767, 51.64767163906967],\n",
       "     [27.25487852396803, 51.63576827590731],\n",
       "     [27.236508454109554, 51.62045479344877],\n",
       "     [27.239866884862113, 51.61224262851572],\n",
       "     [27.23470112134268, 51.5998126753346],\n",
       "     [27.239784612832764, 51.596626127001166],\n",
       "     [27.427254065717264, 51.601652013396276],\n",
       "     [27.44984845790534, 51.60844956408538],\n",
       "     [27.472262806853617, 51.59724452124106],\n",
       "     [27.478970665120695, 51.58848252723597],\n",
       "     [27.506105444352865, 51.58307482931591],\n",
       "     [27.51930290088619, 51.58539941193345],\n",
       "     [27.530094054588183, 51.59990922824108],\n",
       "     [27.535179188724317, 51.61669404966362],\n",
       "     [27.55986775722148, 51.618961136665085],\n",
       "     [27.630113490510556, 51.59451815531555],\n",
       "     [27.71002308887094, 51.595385477502916],\n",
       "     [27.704914435095805, 51.56735866296314],\n",
       "     [27.657545791721233, 51.5223707065543],\n",
       "     [27.647569789230136, 51.50707379131952],\n",
       "     [27.675335412020548, 51.49156475739136],\n",
       "     [27.710488939928286, 51.48897478683043],\n",
       "     [27.729229239106413, 51.467683818523724],\n",
       "     [27.762697159862206, 51.46694151119135],\n",
       "     [27.79492892595792, 51.49266804963154],\n",
       "     [27.8098462492481, 51.5208888036454],\n",
       "     [27.865662528164048, 51.533195758806265],\n",
       "     [27.86380128322533, 51.54697379846547],\n",
       "     [27.83772490831957, 51.583426353126136],\n",
       "     [27.851715146433754, 51.604501338330444],\n",
       "     [27.857839979650283, 51.61372107752047],\n",
       "     [27.888706983071806, 51.60502120925806],\n",
       "     [27.903797447551984, 51.594318137703695],\n",
       "     [27.928425045104145, 51.572420722649305],\n",
       "     [27.931765917119503, 51.54883606227238],\n",
       "     [28.00320138434878, 51.553805749949866],\n",
       "     [28.10821776954344, 51.56821360994014],\n",
       "     [28.14240153369996, 51.59329718270748],\n",
       "     [28.18237505651411, 51.61063632687795],\n",
       "     [28.192920953251313, 51.63991143724549],\n",
       "     [28.250176969923107, 51.66446237621914],\n",
       "     [28.234911772947115, 51.61962468873103],\n",
       "     [28.258278533918528, 51.60349438391737],\n",
       "     [28.297124958025698, 51.59433628531687],\n",
       "     [28.325391457233476, 51.572579320303134],\n",
       "     [28.34076971560338, 51.53216907901709],\n",
       "     [28.385133243466996, 51.52556531609172],\n",
       "     [28.47811768822405, 51.57949034888586],\n",
       "     [28.542301896794097, 51.56781114422933],\n",
       "     [28.59463333014291, 51.56419975637706],\n",
       "     [28.591860634915403, 51.64285689724167],\n",
       "     [28.539190964180655, 51.670559440556985],\n",
       "     [28.513158711487343, 51.71973599772762],\n",
       "     [28.477966872865423, 51.751418961205154],\n",
       "     [28.503878965745105, 51.78682507402185],\n",
       "     [28.501065506217557, 51.80492690285868],\n",
       "     [28.524205240097764, 51.8326875106373],\n",
       "     [28.52834968334813, 51.854140610235],\n",
       "     [28.555131555176107, 51.86225997026379],\n",
       "     [28.529232453572334, 51.892775180312725],\n",
       "     [28.53543172573751, 51.96164797590492],\n",
       "     [28.588077858342825, 51.996418894212816],\n",
       "     [28.61054301296027, 52.024965630240196],\n",
       "     [28.72030028184794, 52.08972047091031],\n",
       "     [28.65183050256996, 52.14390318757164],\n",
       "     [28.571903241811732, 52.1465838660873],\n",
       "     [28.50163474512593, 52.1424705418518],\n",
       "     [28.418521869727435, 52.12629510561874],\n",
       "     [28.39037513813009, 52.106249650147966],\n",
       "     [28.306768292117322, 52.113558445888636],\n",
       "     [28.21387909541615, 52.14419553433645],\n",
       "     [28.17163962777596, 52.14118192347986],\n",
       "     [28.133061155309385, 52.129648402286726],\n",
       "     [27.995039101130377, 52.15021505183836],\n",
       "     [27.969841378744537, 52.13904397217334],\n",
       "     [27.91897226216094, 52.133628520066374],\n",
       "     [27.91314652191147, 52.10111889499595],\n",
       "     [27.682218191154206, 52.134441745723784],\n",
       "     [27.591872422079934, 52.14875866263611],\n",
       "     [27.483797463033895, 52.18048202114129],\n",
       "     [27.483797463033895, 52.18048202114129],\n",
       "     [27.390896512881636, 52.215894288509645]]]}}}"
      ]
     },
     "execution_count": 4,
     "metadata": {},
     "output_type": "execute_result"
    }
   ],
   "source": [
    "median_stack.getInfo()"
   ]
  },
  {
   "cell_type": "markdown",
   "metadata": {},
   "source": [
    "examine composites"
   ]
  },
  {
   "cell_type": "code",
   "execution_count": 7,
   "metadata": {},
   "outputs": [
    {
     "data": {
      "text/plain": [
       "ee.image.Image"
      ]
     },
     "execution_count": 7,
     "metadata": {},
     "output_type": "execute_result"
    }
   ],
   "source": [
    "type(median_stack)"
   ]
  },
  {
   "cell_type": "code",
   "execution_count": 27,
   "metadata": {},
   "outputs": [
    {
     "data": {
      "application/vnd.jupyter.widget-view+json": {
       "model_id": "6b4737dc27f74a8aa53c0a7222ce5467",
       "version_major": 2,
       "version_minor": 0
      },
      "text/plain": [
       "Map(center=[51.85, 27.8], controls=(WidgetControl(options=['position', 'transparent_bg'], widget=HBox(children…"
      ]
     },
     "metadata": {},
     "output_type": "display_data"
    }
   ],
   "source": [
    "#month_list = [1,2,3,4,5,6]\n",
    "#month_list = [11]\n",
    "\n",
    "Map = geemap.Map(center=(51.85, 27.8), zoom=9)\n",
    "Map.add_basemap('SATELLITE')\n",
    "for i, START_DATE in enumerate(START_DATE_LIST[0:12]):\n",
    "    vis = {'min': -50,'max': 1,'bands': [f'{START_DATE[0:7]}_VV', \n",
    "                                         f'{START_DATE[0:7]}_VH', \n",
    "                                         f'{START_DATE[0:7]}_VH']}\n",
    "    \n",
    "    vis = {'min': -50,'max': 0,'bands': [f'{START_DATE[0:7]}_VH']}\n",
    "    Map.addLayer(median_stack, vis, f'S1_{START_DATE}')\n",
    "Map\n",
    "\n",
    "# Jan-Feb2018 have a corrupt stipe of S1 data - not sure why, but these months need ignoring for now"
   ]
  },
  {
   "cell_type": "code",
   "execution_count": 105,
   "metadata": {},
   "outputs": [
    {
     "name": "stdout",
     "output_type": "stream",
     "text": [
      "2019-12-01\n"
     ]
    },
    {
     "data": {
      "application/vnd.jupyter.widget-view+json": {
       "model_id": "04fac79344df4d5386fc67994d5ce994",
       "version_major": 2,
       "version_minor": 0
      },
      "text/plain": [
       "Map(center=[51.85, 27.8], controls=(WidgetControl(options=['position', 'transparent_bg'], widget=HBox(children…"
      ]
     },
     "metadata": {},
     "output_type": "display_data"
    }
   ],
   "source": [
    "#collection\n",
    "END_DATE = ee.Date(START_DATE).advance(1, 'month')\n",
    "print(START_DATE)\n",
    "\n",
    "s1 = ee.ImageCollection('COPERNICUS/S1_GRD') \\\n",
    "     .filterDate(START_DATE, END_DATE)   \n",
    "\n",
    "s1 = s1.filter(filters)\n",
    "\n",
    "# composites\n",
    "s1_median = s1.select('VV', 'VH').median()\n",
    "\n",
    "#visualise \n",
    "Map = geemap.Map(center=(51.85, 27.8), zoom=9)\n",
    "#Map.add_basemap('OpenStreetMap.BlackAndWhite')\n",
    "Map.add_basemap('SATELLITE')\n",
    "\n",
    "vis = {'min': -50,'max': 1,'bands': [f'{START_DATE[0:7]}_VV', \n",
    "                                     f'{START_DATE[0:7]}_VH', \n",
    "                                     f'{START_DATE[0:7]}_VH']}\n",
    "\n",
    "vis = {'min': -50,'max': 1,'bands': [f'VV', \n",
    "                                     f'VH', \n",
    "                                     f'VH']}\n",
    "\n",
    "Map.addLayer(s1_median, radarVis, 's1_median')\n",
    "Map"
   ]
  },
  {
   "cell_type": "markdown",
   "metadata": {},
   "source": [
    "# 3) Test flooding frequency maps"
   ]
  },
  {
   "cell_type": "code",
   "execution_count": 6,
   "metadata": {},
   "outputs": [],
   "source": [
    "fp_train_ext1 = \"/home/markdj/Dropbox/artio/polesia/val/Vegetation_extent_rough.shp\"\n",
    "roi_train = geemap.shp_to_ee(fp_train_ext1)\n",
    "AOI = roi_train\n",
    "\n",
    "START_DATE_LIST=['2019-01-01', '2019-02-01', \n",
    "                 '2019-03-01', '2019-04-01', \n",
    "                 '2019-05-01', '2019-06-01', \n",
    "                 '2019-07-01', '2019-08-01',\n",
    "                 '2019-09-01', '2019-10-01',\n",
    "                 '2019-11-01', '2019-12-01']\n",
    "\n",
    "# START_DATE_LIST=['2018-01-01', '2018-02-01', \n",
    "#                  '2018-03-01', '2018-04-01', \n",
    "#                  '2018-05-01', '2018-06-01', \n",
    "#                  '2018-07-01', '2018-08-01',\n",
    "#                  '2018-09-01', '2018-10-01',\n",
    "#                  '2018-11-01', '2018-12-01']\n",
    "\n",
    "filters = [ee.Filter.listContains(\"transmitterReceiverPolarisation\", \"VV\"),\n",
    "           #ee.Filter.listContains(\"transmitterReceiverPolarisation\", \"VH\"),\n",
    "           ee.Filter.equals(\"instrumentMode\", \"IW\"),\n",
    "           ee.Filter.geometry(AOI)]"
   ]
  },
  {
   "cell_type": "code",
   "execution_count": 29,
   "metadata": {},
   "outputs": [
    {
     "name": "stdout",
     "output_type": "stream",
     "text": [
      "2017-01-01\n",
      "2017-02-01\n",
      "2017-03-01\n",
      "2017-04-01\n",
      "2017-05-01\n",
      "2017-06-01\n",
      "2017-07-01\n",
      "2017-08-01\n",
      "2017-09-01\n",
      "2017-10-01\n",
      "2017-11-01\n",
      "2017-12-01\n",
      "2018-01-01\n",
      "2018-02-01\n",
      "2018-03-01\n",
      "2018-04-01\n",
      "2018-05-01\n",
      "2018-06-01\n",
      "2018-07-01\n",
      "2018-08-01\n",
      "2018-09-01\n",
      "2018-10-01\n",
      "2018-11-01\n",
      "2018-12-01\n",
      "2019-01-01\n",
      "2019-02-01\n",
      "2019-03-01\n",
      "2019-04-01\n",
      "2019-05-01\n",
      "2019-06-01\n",
      "2019-07-01\n",
      "2019-08-01\n",
      "2019-09-01\n",
      "2019-10-01\n",
      "2019-11-01\n",
      "2019-12-01\n"
     ]
    }
   ],
   "source": [
    "import pandas as pd\n",
    "START_DATE_LIST=[d.strftime('%Y-%m-%d') for d in pd.date_range(start='2017-01-01', end='2019-12-31', freq='MS')]\n",
    "SMOOTHING_RADIUS = 100\n",
    "FLOOD_THRESH = -13\n",
    "\n",
    "# Jan and Feb 2018 have a corrupt stipe of S1 data - not sure why, but these months need ignoring for now\n",
    "\n",
    "\n",
    "for i, START_DATE in enumerate(START_DATE_LIST):\n",
    "    print(START_DATE)\n",
    "    END_DATE = ee.Date(START_DATE).advance(1, 'month')\n",
    "    \n",
    "    #collection\n",
    "    s1 = ee.ImageCollection('COPERNICUS/S1_GRD') \\\n",
    "         .filterDate(START_DATE, END_DATE)   \n",
    "    s1 = s1.filter(filters)\n",
    "    \n",
    "    # composites\n",
    "    s1_median = (s1.select('VV'#, \n",
    "                           #'VH'\n",
    "                          )\n",
    "                  .map(s1_mask_border_noise)\n",
    "                  .median()\n",
    "                  .clip(roi_train.geometry())\n",
    "                  .rename(f'{START_DATE[0:7]}_VV'#, f'{START_DATE[0:7]}_VH'\n",
    "                         )\n",
    "                )\n",
    "    \n",
    "    # smooth image to get rid of backscatter noise\n",
    "    s1_smoothed = s1_median.focal_median(SMOOTHING_RADIUS, 'circle', 'meters')\n",
    "    # apply a flood masking threshold\n",
    "    flood = s1_smoothed.lt(FLOOD_THRESH)\n",
    "\n",
    "    # stack\n",
    "    if i == 0:\n",
    "        median_stack = s1_median\n",
    "        smooth_stack = s1_smoothed\n",
    "        flood_stack = flood\n",
    "        count_stack = flood.rename('VV')\n",
    "        \n",
    "    else:\n",
    "        median_stack = median_stack.addBands(s1_median)\n",
    "        smooth_stack = smooth_stack.addBands(s1_smoothed) \n",
    "        flood_stack = flood_stack.addBands(flood)\n",
    "        count_stack = count_stack.add(flood.rename('VV'))"
   ]
  },
  {
   "cell_type": "code",
   "execution_count": 30,
   "metadata": {
    "scrolled": false
   },
   "outputs": [
    {
     "data": {
      "application/vnd.jupyter.widget-view+json": {
       "model_id": "26eec41ac35148adb792583057518120",
       "version_major": 2,
       "version_minor": 0
      },
      "text/plain": [
       "Map(center=[51.85, 27.8], controls=(WidgetControl(options=['position', 'transparent_bg'], widget=HBox(children…"
      ]
     },
     "metadata": {},
     "output_type": "display_data"
    }
   ],
   "source": [
    "#visualise \n",
    "Map = geemap.Map(center=(51.85, 27.8), zoom=9)\n",
    "#Map.add_basemap('OpenStreetMap.BlackAndWhite')\n",
    "Map.add_basemap('SATELLITE')\n",
    "\n",
    "vis = {'min': -50,'max': 1,'bands': [f'2019-01_VV']}\n",
    "\n",
    "Map.addLayer(median_stack, vis, 's1_median')\n",
    "Map.addLayer(smooth_stack, vis, 's1_smooth')\n",
    "vis = {'min': 0,'max': 1,'bands': [f'2019-01_VV']}\n",
    "Map.addLayer(flood_stack, vis, 'flooded')\n",
    "vis = {'min': 0,'max': 36,'bands': [f'VV']}\n",
    "Map.addLayer(count_stack, vis, 'flooded_count')\n",
    "\n",
    "Map"
   ]
  },
  {
   "cell_type": "code",
   "execution_count": 58,
   "metadata": {},
   "outputs": [
    {
     "name": "stdout",
     "output_type": "stream",
     "text": [
      "fetch_sentinel1_flood_index_v1(): hello!\n",
      "fetch_sentinel1_flood_index_v1(): processing month 2017-01-01\n",
      "fetch_sentinel1_flood_index_v1(): processing month 2017-02-01\n",
      "fetch_sentinel1_flood_index_v1(): processing month 2017-03-01\n",
      "fetch_sentinel1_flood_index_v1(): processing month 2017-04-01\n",
      "fetch_sentinel1_flood_index_v1(): processing month 2017-05-01\n",
      "fetch_sentinel1_flood_index_v1(): processing month 2017-06-01\n",
      "fetch_sentinel1_flood_index_v1(): processing month 2017-07-01\n",
      "fetch_sentinel1_flood_index_v1(): processing month 2017-08-01\n",
      "fetch_sentinel1_flood_index_v1(): processing month 2017-09-01\n",
      "fetch_sentinel1_flood_index_v1(): processing month 2017-10-01\n",
      "fetch_sentinel1_flood_index_v1(): processing month 2017-11-01\n",
      "fetch_sentinel1_flood_index_v1(): processing month 2017-12-01\n",
      "fetch_sentinel1_flood_index_v1(): processing month 2018-01-01\n",
      "fetch_sentinel1_flood_index_v1(): processing month 2018-02-01\n",
      "fetch_sentinel1_flood_index_v1(): processing month 2018-03-01\n",
      "fetch_sentinel1_flood_index_v1(): processing month 2018-04-01\n",
      "fetch_sentinel1_flood_index_v1(): processing month 2018-05-01\n",
      "fetch_sentinel1_flood_index_v1(): processing month 2018-06-01\n",
      "fetch_sentinel1_flood_index_v1(): processing month 2018-07-01\n",
      "fetch_sentinel1_flood_index_v1(): processing month 2018-08-01\n",
      "fetch_sentinel1_flood_index_v1(): processing month 2018-09-01\n",
      "fetch_sentinel1_flood_index_v1(): processing month 2018-10-01\n",
      "fetch_sentinel1_flood_index_v1(): processing month 2018-11-01\n",
      "fetch_sentinel1_flood_index_v1(): processing month 2018-12-01\n",
      "fetch_sentinel1_flood_index_v1(): processing month 2019-01-01\n",
      "fetch_sentinel1_flood_index_v1(): processing month 2019-02-01\n",
      "fetch_sentinel1_flood_index_v1(): processing month 2019-03-01\n",
      "fetch_sentinel1_flood_index_v1(): processing month 2019-04-01\n",
      "fetch_sentinel1_flood_index_v1(): processing month 2019-05-01\n",
      "fetch_sentinel1_flood_index_v1(): processing month 2019-06-01\n",
      "fetch_sentinel1_flood_index_v1(): processing month 2019-07-01\n",
      "fetch_sentinel1_flood_index_v1(): processing month 2019-08-01\n",
      "fetch_sentinel1_flood_index_v1(): processing month 2019-09-01\n",
      "fetch_sentinel1_flood_index_v1(): processing month 2019-10-01\n",
      "fetch_sentinel1_flood_index_v1(): processing month 2019-11-01\n",
      "fetch_sentinel1_flood_index_v1(): processing month 2019-12-01\n",
      "fetch_sentinel1_flood_index_v1(): bye!\n"
     ]
    }
   ],
   "source": [
    "def fetch_sentinel1_flood_index_v1(aoi, start_date_str, end_date_str, smoothing_radius=100.0, flood_thresh=-13.0):\n",
    "    \"\"\"\n",
    "    Create a simple flood frequency layer from Sentinel-1 data (IW mode & VV)\n",
    "    1) preprocess median monthly composites using start/end dates\n",
    "    2) apply spatial smoother (focal median) to get rid of the backscatter\n",
    "    3) threshold monthly composite as binary flooded/not flooded map\n",
    "    4) accumulate binary monthly flood maps, and normalise by dividing by number of months \n",
    "    \n",
    "    NOTE: this func could be modified to make use of 'VH' polorisation.Needs further exploration. \n",
    "    This paper however suggests VV might be better for flood detection:\n",
    "    https://iopscience.iop.org/article/10.1088/1755-1315/357/1/012034/pdf\n",
    "    \n",
    "    :: params ::\n",
    "    :param aoi: ee.featurecollection.FeatureCollection, used to indicate AOI extent \n",
    "    : param start_date_str: str, should be YYYY-MM-01 for start month (inclusive) \n",
    "    : param end_date_str: str, should be YYYY-MM-01 for end month (inclusive)  \n",
    "    : param smoothing_radius: float, radius of smoothing kernel (metres)\n",
    "    : param flood_thresh: float, VV values < flood_thresh are considered flooded.\n",
    "    : returns : flood frequency map [0-1]\n",
    "    \"\"\"\n",
    "\n",
    "    print('fetch_sentinel1_flood_index_v1(): hello!')\n",
    "    \n",
    "    \n",
    "    def s1_mask_border_noise(img):\n",
    "        \"\"\"\n",
    "        Sentinel-1 data on GEE sometimes suffers from 'border noise' prior to May 2018 at swath edges.\n",
    "        This needs to be masked in individual images via mapping before compositing images.\n",
    "        This func is derived from the example code provided on the \n",
    "        GEE ee.ImageCollection(\"COPERNICUS/S1_GRD\") pages\n",
    "        \"\"\"\n",
    "        edge = img.lt(-30.0)\n",
    "        masked_img = img.mask().And(edge.Not())\n",
    "        return img.updateMask(masked_img)\n",
    "    \n",
    "    band='VV' # threshold needs changing if using VH and further testing \n",
    "    \n",
    "    # generate list of months\n",
    "    start_date_list=[d.strftime('%Y-%m-%d') for d in pd.date_range(start=start_date_str, \n",
    "                                                                   end=end_date_str, freq='MS')]\n",
    "    n_months = len(start_date_list)  # used for standardising\n",
    "    \n",
    "    # specify filters to apply to the GEE Sentinel-1 collection\n",
    "    filters = [ee.Filter.listContains(\"transmitterReceiverPolarisation\", band),\n",
    "           ee.Filter.equals(\"instrumentMode\", \"IW\"),\n",
    "           ee.Filter.geometry(aoi)]\n",
    "    \n",
    "    # iteratively generate a monthly flood map and aggregate them\n",
    "    for i, start_date in enumerate(start_date_list):\n",
    "        print(f'fetch_sentinel1_flood_index_v1(): processing month {start_date}')\n",
    "        end_date = ee.Date(start_date).advance(1, 'month')\n",
    "        \n",
    "        # load, preprocess and make composite\n",
    "        s1_median = (ee.ImageCollection('COPERNICUS/S1_GRD')\n",
    "             .filterDate(start_date, end_date)\n",
    "             .filter(filters)\n",
    "             .select(band)\n",
    "             .map(s1_mask_border_noise) # remove border noise\n",
    "             .median()\n",
    "             .clip(aoi.geometry()))\n",
    "        \n",
    "        # smooth image to get rid of backscatter noise\n",
    "        s1_smoothed = s1_median.focal_median(smoothing_radius, 'circle', 'meters')        \n",
    "        \n",
    "        # apply a flood masking threshold\n",
    "        flood_map = s1_smoothed.lt(flood_thresh) \n",
    "        \n",
    "        # sum months\n",
    "        if i == 0:\n",
    "            flood_aggr = flood_map\n",
    "        else:\n",
    "            flood_aggr = flood_aggr.add(flood_map)\n",
    "    \n",
    "    ## standardise & rename\n",
    "    flood_aggr = flood_aggr.divide(n_months).rename(\"s1_floodfreq\")\n",
    "    \n",
    "    print('fetch_sentinel1_flood_index_v1(): bye!')    \n",
    "    return flood_aggr\n",
    "\n",
    "s1 = fetch_sentinel1_flood_index_v1(aoi=roi_train, \n",
    "                                    start_date_str='2017-01-01', \n",
    "                                    end_date_str='2019-12-31'#, \n",
    "                                    #smoothing_radius=100.0, \n",
    "                                    #flood_thresh=-13.0\n",
    "                                   )"
   ]
  },
  {
   "cell_type": "code",
   "execution_count": 50,
   "metadata": {},
   "outputs": [
    {
     "data": {
      "text/plain": [
       "{'type': 'Image',\n",
       " 'bands': [{'id': 's1_floodfreq',\n",
       "   'data_type': {'type': 'PixelType',\n",
       "    'precision': 'float',\n",
       "    'min': 0,\n",
       "    'max': 1},\n",
       "   'dimensions': [2, 2],\n",
       "   'origin': [27, 51],\n",
       "   'crs': 'EPSG:4326',\n",
       "   'crs_transform': [1, 0, 0, 0, 1, 0]}]}"
      ]
     },
     "execution_count": 50,
     "metadata": {},
     "output_type": "execute_result"
    }
   ],
   "source": [
    "s1.getInfo()"
   ]
  },
  {
   "cell_type": "code",
   "execution_count": 57,
   "metadata": {},
   "outputs": [
    {
     "data": {
      "application/vnd.jupyter.widget-view+json": {
       "model_id": "d7b2464e56854d98a3baa3f9617aacda",
       "version_major": 2,
       "version_minor": 0
      },
      "text/plain": [
       "Map(center=[51.85, 27.8], controls=(WidgetControl(options=['position', 'transparent_bg'], widget=HBox(children…"
      ]
     },
     "metadata": {},
     "output_type": "display_data"
    }
   ],
   "source": [
    "#visualise \n",
    "Map = geemap.Map(center=(51.85, 27.8), zoom=9)\n",
    "#Map.add_basemap('OpenStreetMap.BlackAndWhite')\n",
    "Map.add_basemap('SATELLITE')\n",
    "vis = {'min': 0,'max': 1,'bands': [f's1_floodfreq']}\n",
    "Map.addLayer(s1, vis, 'flooded_count')\n",
    "Map"
   ]
  }
 ],
 "metadata": {
  "kernelspec": {
   "display_name": "Python 3",
   "language": "python",
   "name": "python3"
  },
  "language_info": {
   "codemirror_mode": {
    "name": "ipython",
    "version": 3
   },
   "file_extension": ".py",
   "mimetype": "text/x-python",
   "name": "python",
   "nbconvert_exporter": "python",
   "pygments_lexer": "ipython3",
   "version": "3.6.10"
  }
 },
 "nbformat": 4,
 "nbformat_minor": 4
}
