{
 "cells": [
  {
   "cell_type": "markdown",
   "metadata": {},
   "source": [
    "### Test topographic features\n",
    "One issue is that normalising aspect is not straight forward (0-360 degrees)\n",
    "\n",
    "a suggestion here is to represent as cosine(deg) and sine(deg) - but potentially adding an extra param here is too much of a cost for model complexity\n",
    "https://stats.stackexchange.com/questions/185091/normalisation-of-circular-statistics-such-as-wind-direction-in-degrees-for-clu"
   ]
  },
  {
   "cell_type": "code",
   "execution_count": 9,
   "metadata": {},
   "outputs": [],
   "source": [
    "import ee\n",
    "from geemap import geemap\n",
    "ee.Initialize()"
   ]
  },
  {
   "cell_type": "code",
   "execution_count": 4,
   "metadata": {},
   "outputs": [
    {
     "data": {
      "text/html": [
       "<style>.container { width:100% !important; }</style>"
      ],
      "text/plain": [
       "<IPython.core.display.HTML object>"
      ]
     },
     "metadata": {},
     "output_type": "display_data"
    }
   ],
   "source": [
    "from IPython.core.display import display, HTML\n",
    "display(HTML(\"<style>.container { width:100% !important; }</style>\"))"
   ]
  },
  {
   "cell_type": "code",
   "execution_count": 25,
   "metadata": {},
   "outputs": [],
   "source": [
    "fp_train_ext = \"/home/markdj/Dropbox/artio/polesia/val/Vegetation_extent_rough.shp\"\n",
    "aoi = geemap.shp_to_ee(fp_train_ext)"
   ]
  },
  {
   "cell_type": "code",
   "execution_count": 57,
   "metadata": {},
   "outputs": [],
   "source": [
    "def fetch_topography(aoi):\n",
    "    \"\"\"\n",
    "    Get static topographic layers \n",
    "    elevation, slope and aspect from the NASA SRTM product 30m ('USGS/SRTMGL1_003').\n",
    "    Also gets 'Global SRTM Topographic Diversity' ('CSP/ERGo/1_0/Global/SRTM_topoDiversity'), \n",
    "    but I'm not convinced this is useful - 270m, looks a lot like coarse res slope/elevation\n",
    "\n",
    "    :param aoi: ee.featurecollection.FeatureCollection, used to indicate AOI extent \n",
    "    :return: ee.image.Image, stack of composite images with bands: ['elevation', 'aspect', 'slope', 'topographic_diversity']     \n",
    "    \"\"\"\n",
    "    print('fetch_topography(): hi!')\n",
    "    #datasets & bands\n",
    "    srtm = ee.Image('USGS/SRTMGL1_003')\n",
    "    ds_topodiv = ee.Image('CSP/ERGo/1_0/Global/SRTM_topoDiversity')\n",
    "    elevation = srtm.select('elevation').clip(aoi.geometry())\n",
    "    topodiversity = ds_topodiv.select('constant').clip(aoi.geometry()).rename('topographic_diversity')\n",
    "    \n",
    "    # derive slope & aspect\n",
    "    slope = ee.Terrain.slope(elevation)\n",
    "    aspect = ee.Terrain.aspect(elevation)\n",
    "\n",
    "    # compile\n",
    "    stack = elevation.addBands(slope)\n",
    "    stack = stack.addBands(aspect)\n",
    "    stack = stack.addBands(topodiversity)\n",
    "    print('fetch_topography(): bye!')\n",
    "    return stack"
   ]
  },
  {
   "cell_type": "code",
   "execution_count": 52,
   "metadata": {},
   "outputs": [],
   "source": [
    "def map_topography(stack, lat=51.85, lon=27.8, elv_rng=(100.0,200.0), asp_rng=(0.0,360.0), slp_rng=(0.0, 10.0), topdiv_rng=(0,0.15)):\n",
    "    \"\"\"\n",
    "    Quick mapping function for debugging topo data \n",
    "    : param stack: Image, stack containing topographic composite images for AOI\n",
    "    : param lat: float, map central latitude\n",
    "    : param lon: float, map central longitude\n",
    "    : params elv_rng, asp_rng, slp_rng, topdiv_rng: tuples of floats, min/max z-values for elevation, aspect, slope, and topo diversity, respectively. \n",
    "                                                    Defaults are suited to the Polesia training AOI    \n",
    "    : return : \n",
    "    \"\"\"\n",
    "    Map = geemap.Map(center=(lat, lon), zoom=9)\n",
    "    Map.add_basemap('SATELLITE')\n",
    "    Map.addLayer(stack, {'min': elv_rng[0],'max': elv_rng[1], 'bands': ['elevation']}, 'elevation')\n",
    "    Map.addLayer(stack, {'min': asp_rng[0],'max': asp_rng[1], 'bands': ['aspect']}, 'aspect')\n",
    "    Map.addLayer(stack, {'min': slp_rng[0],'max': slp_rng[1], 'bands': ['slope']}, 'slope')\n",
    "    Map.addLayer(stack, {'min': topdiv_rng[0],'max': topdiv_rng[1], 'bands': ['topographic_diversity']}, 'topographic_diversity')\n",
    "    return Map"
   ]
  },
  {
   "cell_type": "code",
   "execution_count": 43,
   "metadata": {},
   "outputs": [],
   "source": [
    "srtm = ee.Image('USGS/SRTMGL1_003')\n",
    "ds_topodiv = ee.Image('CSP/ERGo/1_0/Global/SRTM_topoDiversity')\n",
    "#srtm.getInfo()"
   ]
  },
  {
   "cell_type": "code",
   "execution_count": 53,
   "metadata": {},
   "outputs": [],
   "source": [
    "elevation = srtm.select('elevation').clip(aoi.geometry())\n",
    "topodiversity = ds_topodiv.select('constant').clip(aoi.geometry()).rename('topographic_diversity')\n",
    "\n",
    "# derive slope & aspect\n",
    "slope = ee.Terrain.slope(elevation)\n",
    "aspect = ee.Terrain.aspect(elevation)\n",
    "\n",
    "# compile\n",
    "stack = elevation.addBands(slope)\n",
    "stack = stack.addBands(aspect)\n",
    "stack = stack.addBands(topodiversity)\n",
    "#stack.getInfo()"
   ]
  },
  {
   "cell_type": "markdown",
   "metadata": {},
   "source": [
    "Topographic diversity looks a lot like slope (but coarser res) to me! probably abandon?"
   ]
  },
  {
   "cell_type": "code",
   "execution_count": 51,
   "metadata": {
    "scrolled": true
   },
   "outputs": [
    {
     "data": {
      "application/vnd.jupyter.widget-view+json": {
       "model_id": "146dd814e7064a3ba838436099a7bb0b",
       "version_major": 2,
       "version_minor": 0
      },
      "text/plain": [
       "Map(center=[51.85, 27.8], controls=(WidgetControl(options=['position', 'transparent_bg'], widget=HBox(children…"
      ]
     },
     "metadata": {},
     "output_type": "display_data"
    }
   ],
   "source": [
    "lat=51.85\n",
    "lon=27.8\n",
    "Map = geemap.Map(center=(lat, lon), zoom=9)\n",
    "Map.add_basemap('SATELLITE')\n",
    "Map.addLayer(stack, {'min': 100.0,'max': 200, 'bands': ['elevation']}, 'elevation')\n",
    "Map.addLayer(stack, {'min': 0,'max': 360, 'bands': ['aspect']}, 'aspect')\n",
    "Map.addLayer(stack, {'min': 0.0,'max': 10.0, 'bands': ['slope']}, 'slope')\n",
    "Map.addLayer(stack, {'min': 0.0,'max': 0.15, 'bands': ['topographic_diversity']}, 'topographic_diversity')\n",
    "Map"
   ]
  },
  {
   "cell_type": "code",
   "execution_count": 61,
   "metadata": {},
   "outputs": [
    {
     "name": "stdout",
     "output_type": "stream",
     "text": [
      "fetch_topography(): hi!\n",
      "fetch_topography(): bye!\n"
     ]
    },
    {
     "data": {
      "application/vnd.jupyter.widget-view+json": {
       "model_id": "d2ba622274e344f894e8cb4905baadef",
       "version_major": 2,
       "version_minor": 0
      },
      "text/plain": [
       "Map(center=[51.85, 27.8], controls=(WidgetControl(options=['position', 'transparent_bg'], widget=HBox(children…"
      ]
     },
     "metadata": {},
     "output_type": "display_data"
    }
   ],
   "source": [
    "stack = fetch_topography(aoi)\n",
    "map_topography(stack, elv_rng=(110,170))"
   ]
  }
 ],
 "metadata": {
  "kernelspec": {
   "display_name": "Python 3",
   "language": "python",
   "name": "python3"
  },
  "language_info": {
   "codemirror_mode": {
    "name": "ipython",
    "version": 3
   },
   "file_extension": ".py",
   "mimetype": "text/x-python",
   "name": "python",
   "nbconvert_exporter": "python",
   "pygments_lexer": "ipython3",
   "version": "3.6.10"
  }
 },
 "nbformat": 4,
 "nbformat_minor": 4
}
