{
 "cells": [
  {
   "cell_type": "code",
   "execution_count": 10,
   "id": "7ff336c7-9559-4382-b9cc-5dcd7cc99af7",
   "metadata": {},
   "outputs": [],
   "source": [
    "\"\"\"\n",
    "Testing upload of training data to Earth Engine\n",
    "\"\"\"\n",
    "import ee\n",
    "import geopandas\n",
    "from geemap import geemap\n",
    "ee.Initialize()"
   ]
  },
  {
   "cell_type": "code",
   "execution_count": 18,
   "id": "aa18e56f-ad55-45d2-bbd5-fcc894e9dd5f",
   "metadata": {},
   "outputs": [],
   "source": [
    "# Load the training data\n",
    "# Load one class at a time to avoid API load limits\n",
    "fpath_c1 = \"D:/tpfdo/Documents/Artio_drive/Projects/Polesia/Classes/Class_1.shp\"\n",
    "fpath_c2 = \"D:/tpfdo/Documents/Artio_drive/Projects/Polesia/Classes/Class_2.shp\"\n",
    "fpath_c3 = \"D:/tpfdo/Documents/Artio_drive/Projects/Polesia/Classes/Class_3.shp\"\n",
    "fpath_c4 = \"D:/tpfdo/Documents/Artio_drive/Projects/Polesia/Classes/Class_4.shp\"\n",
    "fpath_c5 = \"D:/tpfdo/Documents/Artio_drive/Projects/Polesia/Classes/Class_5.shp\"\n",
    "fpath_c6 = \"D:/tpfdo/Documents/Artio_drive/Projects/Polesia/Classes/Class_6.shp\"\n",
    "fpath_c7 = \"D:/tpfdo/Documents/Artio_drive/Projects/Polesia/Classes/Class_7.shp\"\n",
    "fpath_c8 = \"D:/tpfdo/Documents/Artio_drive/Projects/Polesia/Classes/Class_8.shp\"\n",
    "fpath_c9 = \"D:/tpfdo/Documents/Artio_drive/Projects/Polesia/Classes/Class_9.shp\"\n",
    "fpath_c10 = \"D:/tpfdo/Documents/Artio_drive/Projects/Polesia/Classes/Class_10.shp\"\n",
    "fpath_c11 = \"D:/tpfdo/Documents/Artio_drive/Projects/Polesia/Classes/Class_11.shp\"\n",
    "fpath_c12 = \"D:/tpfdo/Documents/Artio_drive/Projects/Polesia/Classes/Class_12.shp\"\n",
    "fpath_c13 = \"D:/tpfdo/Documents/Artio_drive/Projects/Polesia/Classes/Class_13.shp\"\n",
    "fpath_c14 = \"D:/tpfdo/Documents/Artio_drive/Projects/Polesia/Classes/Class_14.shp\"\n",
    "fpath_c15 = \"D:/tpfdo/Documents/Artio_drive/Projects/Polesia/Classes/Class_15.shp\"\n",
    "fpath_c16 = \"D:/tpfdo/Documents/Artio_drive/Projects/Polesia/Classes/Class_16.shp\"\n",
    "fpath_c17 = \"D:/tpfdo/Documents/Artio_drive/Projects/Polesia/Classes/Class_17.shp\"\n",
    "fpath_c18 = \"D:/tpfdo/Documents/Artio_drive/Projects/Polesia/Classes/Class_18.shp\"\n",
    "fpath_c19 = \"D:/tpfdo/Documents/Artio_drive/Projects/Polesia/Classes/Class_19.shp\"\n",
    "\n",
    "\n",
    "class_1 = geemap.shp_to_ee(fpath_c1)\n",
    "class_2 = geemap.shp_to_ee(fpath_c2)\n",
    "class_3 = geemap.shp_to_ee(fpath_c3)\n",
    "class_4 = geemap.shp_to_ee(fpath_c4)\n",
    "class_5 = geemap.shp_to_ee(fpath_c5)\n",
    "class_6 = geemap.shp_to_ee(fpath_c6)\n",
    "class_7 = geemap.shp_to_ee(fpath_c7)\n",
    "class_8 = geemap.shp_to_ee(fpath_c8)\n",
    "class_9 = geemap.shp_to_ee(fpath_c9)\n",
    "class_10 = geemap.shp_to_ee(fpath_c10)\n",
    "class_11 = geemap.shp_to_ee(fpath_c11)\n",
    "class_12 = geemap.shp_to_ee(fpath_c12)\n",
    "class_13 = geemap.shp_to_ee(fpath_c13)\n",
    "class_14 = geemap.shp_to_ee(fpath_c14)\n",
    "class_15 = geemap.shp_to_ee(fpath_c15)\n",
    "class_16 = geemap.shp_to_ee(fpath_c16)\n",
    "class_17 = geemap.shp_to_ee(fpath_c17)\n",
    "class_18 = geemap.shp_to_ee(fpath_c18)\n",
    "class_19 = geemap.shp_to_ee(fpath_c19)"
   ]
  },
  {
   "cell_type": "code",
   "execution_count": 24,
   "id": "b4801e7a-f127-447b-aff0-85a05becf11b",
   "metadata": {},
   "outputs": [
    {
     "data": {
      "application/vnd.jupyter.widget-view+json": {
       "model_id": "5a2eccb7ba0a42c5b9596019e360df16",
       "version_major": 2,
       "version_minor": 0
      },
      "text/plain": [
       "Map(center=[52, 28], controls=(WidgetControl(options=['position', 'transparent_bg'], widget=HBox(children=(Tog…"
      ]
     },
     "metadata": {},
     "output_type": "display_data"
    }
   ],
   "source": [
    "# Visualise the training data on a map \n",
    "#(Warning, can be slow with all classes, feel free to skip)\n",
    "Map = geemap.Map(center=(52, 28), zoom=8)\n",
    "\n",
    "Map.addLayer(class_1, {'color': 'FF0000'}, 'c_1')\n",
    "Map.addLayer(class_2, {'color': 'cf8bfc'}, 'c_2')\n",
    "Map.addLayer(class_3, {'color': 'ef852f'}, 'c_3')\n",
    "Map.addLayer(class_4, {'color': '6d1fff'}, 'c_4')\n",
    "Map.addLayer(class_5, {'color': 'ffff00'}, 'c_5')\n",
    "Map.addLayer(class_6, {'color': '0000ff'}, 'c_6')\n",
    "Map.addLayer(class_7, {'color': '76ee00'}, 'c_7')\n",
    "Map.addLayer(class_8, {'color': 'b7235b'}, 'c_8')\n",
    "Map.addLayer(class_9, {'color': '8b9dc3'}, 'c_9')\n",
    "Map.addLayer(class_10, {'color': '00ffff'}, 'c_10')\n",
    "Map.addLayer(class_11, {'color': '305a63'}, 'c_11')\n",
    "Map.addLayer(class_12, {'color': 'bb6c5d'}, 'c_12')\n",
    "Map.addLayer(class_13, {'color': 'faed72'}, 'c_13')\n",
    "Map.addLayer(class_14, {'color': 'cec1e8'}, 'c_14')\n",
    "Map.addLayer(class_15, {'color': '65b0bb'}, 'c_15')\n",
    "Map.addLayer(class_16, {'color': 'ff10df'}, 'c_16')\n",
    "Map.addLayer(class_17, {'color': 'c7a598'}, 'c_17')\n",
    "Map.addLayer(class_18, {'color': '0016ae'}, 'c_18')\n",
    "Map.addLayer(class_19, {'color': 'FF0000'}, 'c_19')\n",
    "\n",
    "Map"
   ]
  },
  {
   "cell_type": "code",
   "execution_count": 28,
   "id": "2ecb22dd-44b5-4f91-90ad-eb912b41ba34",
   "metadata": {},
   "outputs": [],
   "source": [
    "# Merge classes into one feature collection\n",
    "# This creates and object that cannot be displayed due to API limit\n",
    "# TO DO test to see if can still extract training pixels using this merged data or if will have to revert to class by class\n",
    "all_classes = class_1.merge(class_2).merge(class_3).merge(class_4).merge(class_5).merge(class_6).merge(class_7).merge(class_8).merge(class_9).merge(class_10).merge(class_11).merge(class_12).merge(class_13).merge(class_14).merge(class_15).merge(class_16).merge(class_17).merge(class_18).merge(class_19)"
   ]
  },
  {
   "cell_type": "code",
   "execution_count": null,
   "id": "5aaa36f9-77c3-4ae8-bdb2-406bb78f027b",
   "metadata": {},
   "outputs": [],
   "source": []
  }
 ],
 "metadata": {
  "kernelspec": {
   "display_name": "Python 3 (ipykernel)",
   "language": "python",
   "name": "python3"
  },
  "language_info": {
   "codemirror_mode": {
    "name": "ipython",
    "version": 3
   },
   "file_extension": ".py",
   "mimetype": "text/x-python",
   "name": "python",
   "nbconvert_exporter": "python",
   "pygments_lexer": "ipython3",
   "version": "3.9.5"
  }
 },
 "nbformat": 4,
 "nbformat_minor": 5
}
