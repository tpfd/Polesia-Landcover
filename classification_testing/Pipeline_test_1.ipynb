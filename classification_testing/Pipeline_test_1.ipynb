{
 "cells": [
  {
   "cell_type": "code",
   "execution_count": null,
   "id": "7a4a051d-35f4-40f2-b791-216e3117432b",
   "metadata": {},
   "outputs": [],
   "source": [
    "import sys\n",
    "#sys.path.append(\"/home/markdj/repos/Polesia-Landcover/data_stack_testing/\")\n",
    "sys.path.append(\"C:/Users/tpfdo/OneDrive/Documents/GitHub\\Polesia-Landcover/data_stack_testing/\")\n",
    "import ee\n",
    "import os\n",
    "import csv\n",
    "import matplotlib.pyplot as plt\n",
    "from geemap import geemap\n",
    "from data_stack_tools_v1 import fetch_sentinel1_v2, fetch_sentinel2_v2, map_topography, create_data_stack_v2\n",
    "ee.Initialize()"
   ]
  },
  {
   "cell_type": "code",
   "execution_count": null,
   "id": "e170b9be-402d-4d1e-89bb-118b12a5879d",
   "metadata": {},
   "outputs": [],
   "source": [
    "# Paths and variable settings\n",
    "#fp_train_ext = \"/home/markdj/Dropbox/artio/polesia/val/Vegetation_extent_rough.shp\"\n",
    "fp_train_ext = \"D:/tpfdo/Documents/Artio_drive/Projects/Polesia/Project_area.shp\" # Area covered by the training data\n",
    "fp_train_points = \"D:/tpfdo/Documents/Artio_drive/Projects/Polesia/Training_data/Simple_points_500.shp\" # Prepped training points\n",
    "fp_target_ext = \"D:/tpfdo/Documents/Artio_drive/Projects/Polesia/Classif_area.shp\" # Area to be classified\n",
    "fp_export_dir = \"D:/tpfdo/Documents/Artio_drive/Projects/Polesia/Classified/\"\n",
    "\n",
    "label = 'VALUE' # Name of the classes column in your trainig data\n",
    "scale = 20 # Sets the output scale of the analysis\n",
    "\n",
    "aoi = geemap.shp_to_ee(fp_train_ext)\n",
    "date_list = [('2018-12-01', '2019-02-01'),('2019-05-01', '2019-05-31')]\n",
    "#date_list = [('2017-12-01', '2018-02-01')]  # this just generates a ~2 month composite\n",
    "\n",
    "s2_params = {\n",
    "    'CLOUD_FILTER': 60,       # int, max cloud coverage (%) permitted in a scene\n",
    "    'CLD_PRB_THRESH': 40,     # int, 's2cloudless' 'probability' band value > thresh = cloud\n",
    "    'NIR_DRK_THRESH': 0.15,   # float, if Band 8 (NIR) < NIR_DRK_THRESH = possible shadow\n",
    "    'CLD_PRJ_DIST': 1,        # int, max distnce [TODO: km or 100m?] from cloud edge for possible shadow \n",
    "    'BUFFER': 100,             # int, distance (m) used to buffer cloud edges\n",
    "    #'S2BANDS': ['B2', 'B3', 'B4', 'B5', 'B6', 'B7', 'B8', 'B8A', 'B11', 'B12'] #list of str, which S2 bands to return?\n",
    "    'S2BANDS': ['B2', 'B3', 'B4', 'B6', 'B8', 'B11'] #list of str, which S2 bands to return?\n",
    "}"
   ]
  },
  {
   "cell_type": "code",
   "execution_count": null,
   "id": "41204f61-3e2b-429a-b512-8a17ace5332f",
   "metadata": {},
   "outputs": [],
   "source": [
    "# Load the data stack\n",
    "stack = create_data_stack_v2(aoi, date_list, s2_params)\n",
    "\n",
    "band_names = stack.bandNames()\n",
    "trainingbands = band_names.getInfo()\n",
    "print('Training bands are:', trainingbands)"
   ]
  },
  {
   "cell_type": "code",
   "execution_count": null,
   "id": "2d4db315-1f6a-46d0-9f8a-042900881456",
   "metadata": {},
   "outputs": [],
   "source": [
    "# Load and sample the training data\n",
    "print('Loading training data...')\n",
    "#trainingbands_sample = [trainingbands[i] for i in [1,10,18,19]] # Temporary selection of random bands to allow pipeline testing\n",
    "\n",
    "training_points = geemap.shp_to_ee(fp_train_points)\n",
    "data = stack.select(trainingbands).sampleRegions(collection=training_points,\n",
    "                                                 properties=[label],\n",
    "                                                 scale=scale)\n",
    "\n",
    "# Remove null value samples (if needed, switch all the 'data' to dataNoNulls' below)\n",
    "#dataNoNulls = data.filter(ee.Filter.notNull(data.first().propertyNames()))\n",
    "\n",
    "# Split into train and test\n",
    "split = 0.7\n",
    "data = data.randomColumn(seed=0)\n",
    "train = data.filter(ee.Filter.lt('random',split))\n",
    "test = data.filter(ee.Filter.gte('random',split))\n",
    "\n",
    "print('Training data loaded and ready!')"
   ]
  },
  {
   "cell_type": "code",
   "execution_count": null,
   "id": "085674cb-a141-4e57-8b09-996abe80ee97",
   "metadata": {},
   "outputs": [],
   "source": [
    "# Set up the Random Forest\n",
    "print('Setting up random forest classifier...')\n",
    "init_params = {\"numberOfTrees\":100, # the number of individual decision tree models\n",
    "              \"variablesPerSplit\":None,  # the number of features to use per split\n",
    "              \"minLeafPopulation\":1, # smallest sample size possible per leaf\n",
    "              \"bagFraction\":0.5, # fraction of data to include for each individual tree model\n",
    "              \"maxNodes\":None, # max number of leafs/nodes per tree\n",
    "               \"seed\":0}  # random seed for \"random\" choices like sampling.\n",
    "\n",
    "clf = ee.Classifier.smileRandomForest(**init_params).train(train, label, trainingbands)\n",
    "\n",
    "# Carry out the Random Forest\n",
    "print('Using random forest to classify region...')\n",
    "target_area = geemap.shp_to_ee(fp_target_ext)\n",
    "target_stack = stack.clip(target_area)\n",
    "classified = stack.select(trainingbands).classify(clf)\n",
    "\n",
    "# Export results to local\n",
    "file_out = fp_export_dir+'Random_forest.tif'\n",
    "roi = target_area.geometry()\n",
    "geemap.ee_export_image(classified, filename=file_out, scale=scale, file_per_band=False, region=roi)\n",
    "\n",
    "print('Classification complete!')"
   ]
  },
  {
   "cell_type": "code",
   "execution_count": null,
   "id": "a288d87a-683b-4683-86ad-387c77f9126b",
   "metadata": {},
   "outputs": [],
   "source": [
    "# Generate performance reports\n",
    "print('Generating performance reports...')\n",
    "training_csv = os.path.join(fp_export_dir, 'RF_train_confusion_matrix.csv')\n",
    "testing_csv = os.path.join(fp_export_dir, 'RF_test_error_matrix.csv')\n",
    "\n",
    "train_accuracy = clf.confusionMatrix()\n",
    "\n",
    "validated = test.classify(clf)\n",
    "test_accuracy = validated.errorMatrix('Landcover', 'Classification')\n",
    "\n",
    "with open(training_csv, \"w\", newline=\"\") as f:\n",
    "    writer = csv.writer(f)\n",
    "    writer.writerows(train_accuracy.getInfo())\n",
    "    \n",
    "with open(testing_csv, \"w\", newline=\"\") as f:\n",
    "    writer = csv.writer(f)\n",
    "    writer.writerows(test_accuracy.getInfo())\n",
    "    \n",
    "print('Performance reports completed!')"
   ]
  },
  {
   "cell_type": "code",
   "execution_count": null,
   "id": "149eca6f-d653-4b9d-8f31-62540301018c",
   "metadata": {},
   "outputs": [],
   "source": [
    "print('Training overall accuracy: ', train_accuracy.accuracy())"
   ]
  }
 ],
 "metadata": {
  "kernelspec": {
   "display_name": "Python 3 (ipykernel)",
   "language": "python",
   "name": "python3"
  },
  "language_info": {
   "codemirror_mode": {
    "name": "ipython",
    "version": 3
   },
   "file_extension": ".py",
   "mimetype": "text/x-python",
   "name": "python",
   "nbconvert_exporter": "python",
   "pygments_lexer": "ipython3",
   "version": "3.9.5"
  }
 },
 "nbformat": 4,
 "nbformat_minor": 5
}
