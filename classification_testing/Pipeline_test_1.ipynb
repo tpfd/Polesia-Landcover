{
 "cells": [
  {
   "cell_type": "code",
   "execution_count": null,
   "id": "7a4a051d-35f4-40f2-b791-216e3117432b",
   "metadata": {},
   "outputs": [],
   "source": [
    "import sys\n",
    "#sys.path.append(\"/home/markdj/repos/Polesia-Landcover/data_stack_testing/\")\n",
    "sys.path.append(\"C:/Users/tpfdo/OneDrive/Documents/GitHub/Polesia-Landcover/data_stack_testing/\")\n",
    "import ee\n",
    "import seaborn as sns\n",
    "from geemap import geemap\n",
    "from data_stack_tools_v1 import create_data_stack, map_topography\n",
    "ee.Initialize()"
   ]
  },
  {
   "cell_type": "code",
   "execution_count": null,
   "id": "e170b9be-402d-4d1e-89bb-118b12a5879d",
   "metadata": {},
   "outputs": [],
   "source": [
    "# Paths and variable settings\n",
    "#fp_train_ext = \"/home/markdj/Dropbox/artio/polesia/val/Vegetation_extent_rough.shp\"\n",
    "fp_train_ext = \"D:/tpfdo/Documents/Artio_drive/Projects/Polesia/Project_area.shp\"\n",
    "fp_train_points = \"D:/tpfdo/Documents/Artio_drive/Projects/Polesia/Training_data/Training_points_500.shp\"\n",
    "label = 'VALUE'\n",
    "scale = 1000\n",
    "\n",
    "aoi = geemap.shp_to_ee(fp_train_ext)\n",
    "start_date_list = ['2018-01-01', '2018-02-01', \n",
    "                   '2018-03-01', '2018-04-01', \n",
    "                   '2018-05-01', '2018-06-01', \n",
    "                   '2018-07-01', '2018-08-01',\n",
    "                   '2018-09-01', '2018-10-01',\n",
    "                   '2018-11-01', '2018-12-01']\n",
    "\n",
    "s2_params = {\n",
    "    'CLOUD_FILTER': 60,       # int, max cloud coverage (%) permitted in a scene\n",
    "    'CLD_PRB_THRESH': 40,     # int, 's2cloudless' 'probability' band value > thresh = cloud\n",
    "    'NIR_DRK_THRESH': 0.15,   # float, if Band 8 (NIR) < NIR_DRK_THRESH = possible shadow\n",
    "    'CLD_PRJ_DIST': 1,        # int, max distnce [TODO: km or 100m?] from cloud edge for possible shadow \n",
    "    'BUFFER': 100             # int, distance (m) used to buffer cloud edges\n",
    "}"
   ]
  },
  {
   "cell_type": "code",
   "execution_count": null,
   "id": "41204f61-3e2b-429a-b512-8a17ace5332f",
   "metadata": {},
   "outputs": [],
   "source": [
    "# Load the data stack\n",
    "stack = create_data_stack(aoi, start_date_list, s2_params)\n",
    "\n",
    "band_names = stack.bandNames()\n",
    "trainingbands = band_names.getInfo()\n",
    "print('Training bands are:', trainingbands)"
   ]
  },
  {
   "cell_type": "code",
   "execution_count": null,
   "id": "2d4db315-1f6a-46d0-9f8a-042900881456",
   "metadata": {},
   "outputs": [],
   "source": [
    "# Load and sample the training data\n",
    "print('Loading training data...')\n",
    "training_points = geemap.shp_to_ee(fp_train_points)\n",
    "\n",
    "data = stack.select(trainingbands).sampleRegions(collection=training_points,\n",
    "                                                 properties=label,\n",
    "                                                 scale=scale)\n",
    "\n",
    "# Remove null value samples\n",
    "dataNoNulls = data.filter(ee.Filter.notNull(data.first().propertyNames()))\n",
    "\n",
    "# Split into train and test\n",
    "split = 0.7\n",
    "dataNoNulls = dataNoNulls.randomColumn(seed=0)\n",
    "train = dataNoNulls.filter(ee.Filter.lt('random',split))\n",
    "test = dataNoNulls.filter(ee.Filter.gte('random',split))\n",
    "\n",
    "# Set up the classifier\n",
    "init_params = {\"numberOfTrees\":100, # the number of individual decision tree models\n",
    "              \"variablesPerSplit\":None,  # the number of features to use per split\n",
    "              \"minLeafPopulation\":1, # smallest sample size possible per leaf\n",
    "              \"bagFraction\":0.5, # fraction of data to include for each individual tree model\n",
    "              \"maxNodes\":None, # max number of leafs/nodes per tree\n",
    "               \"seed\":0}  # random seed for \"random\" choices like sampling.\n",
    "\n",
    "clf = ee.Classifier.smileRandomForest(**init_params).train(train, label, trainingbands)\n",
    "print('Training data loaded and classifier ready!')"
   ]
  },
  {
   "cell_type": "code",
   "execution_count": null,
   "id": "bd35a0bc-e3fb-407e-ab95-3483a881999b",
   "metadata": {},
   "outputs": [],
   "source": [
    "# Test performance of random forest classifier\n"
   ]
  },
  {
   "cell_type": "code",
   "execution_count": null,
   "id": "085674cb-a141-4e57-8b09-996abe80ee97",
   "metadata": {},
   "outputs": [
    {
     "name": "stdout",
     "output_type": "stream",
     "text": [
      "Using random forest to classify region...\n"
     ]
    }
   ],
   "source": [
    "# Use random forest to classify the rest of the stack\n",
    "print('Using random forest to classify region...')\n",
    "classified = stack.select(trainingbands).classify(clf)\n",
    "\n",
    "Map = geemap.Map(center=(52, 28), zoom=8)\n",
    "Map.addLayer(classified.randomVisualizer(), {}, 'Classified')\n",
    "Map"
   ]
  }
 ],
 "metadata": {
  "kernelspec": {
   "display_name": "Python 3 (ipykernel)",
   "language": "python",
   "name": "python3"
  },
  "language_info": {
   "codemirror_mode": {
    "name": "ipython",
    "version": 3
   },
   "file_extension": ".py",
   "mimetype": "text/x-python",
   "name": "python",
   "nbconvert_exporter": "python",
   "pygments_lexer": "ipython3",
   "version": "3.9.5"
  }
 },
 "nbformat": 4,
 "nbformat_minor": 5
}
