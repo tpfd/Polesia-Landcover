{
 "cells": [
  {
   "cell_type": "markdown",
   "metadata": {},
   "source": [
    "### testing S2 imagery composites\n",
    "https://developers.google.com/earth-engine/datasets/catalog/COPERNICUS_S2_SR\n",
    "\n",
    "So far 'max' composite from the S2A product is not very good (too much cloud). If want to use 'max' composites, might need to try 95th %ile rather than max, or possibly a more aggressive cloud mask. use of the 'S2A cloudless' product could be a good option for this: https://medium.com/google-earth/more-accurate-and-flexible-cloud-masking-for-sentinel-2-images-766897a9ba5f\n",
    "\n",
    "**To do:** determine which bands are worth keeping for modelling - prob dont wand B1 (aerosol) or B9 (water vapour) at least"
   ]
  },
  {
   "cell_type": "markdown",
   "metadata": {},
   "source": [
    "Name\tUnits\tMin\tMax\tScale\tPixel Size\tWavelength\tDescription\n",
    "\n",
    "\n",
    "B1\t\t\t\t0.0001\t60 meters\t443.9nm (S2A) / 442.3nm (S2B)\t\n",
    "Aerosols\n",
    "\n",
    "B2\t\t\t\t0.0001\t10 meters\t496.6nm (S2A) / 492.1nm (S2B)\t\n",
    "Blue\n",
    "\n",
    "B3\t\t\t\t0.0001\t10 meters\t560nm (S2A) / 559nm (S2B)\t\n",
    "Green\n",
    "\n",
    "B4\t\t\t\t0.0001\t10 meters\t664.5nm (S2A) / 665nm (S2B)\t\n",
    "Red\n",
    "\n",
    "B5\t\t\t\t0.0001\t20 meters\t703.9nm (S2A) / 703.8nm (S2B)\t\n",
    "Red Edge 1\n",
    "\n",
    "B6\t\t\t\t0.0001\t20 meters\t740.2nm (S2A) / 739.1nm (S2B)\t\n",
    "Red Edge 2\n",
    "\n",
    "B7\t\t\t\t0.0001\t20 meters\t782.5nm (S2A) / 779.7nm (S2B)\t\n",
    "Red Edge 3\n",
    "\n",
    "B8\t\t\t\t0.0001\t10 meters\t835.1nm (S2A) / 833nm (S2B)\t\n",
    "NIR\n",
    "\n",
    "B8A\t\t\t\t0.0001\t20 meters\t864.8nm (S2A) / 864nm (S2B)\t\n",
    "Red Edge 4\n",
    "\n",
    "B9\t\t\t\t0.0001\t60 meters\t945nm (S2A) / 943.2nm (S2B)\t\n",
    "Water vapor\n",
    "\n",
    "B11\t\t\t\t0.0001\t20 meters\t1613.7nm (S2A) / 1610.4nm (S2B)\t\n",
    "SWIR 1\n",
    "\n",
    "B12\t\t\t\t0.0001\t20 meters\t2202.4nm (S2A) / 2185.7nm (S2B)\t\n",
    "SWIR 2"
   ]
  },
  {
   "cell_type": "code",
   "execution_count": 1,
   "metadata": {},
   "outputs": [],
   "source": [
    "import ee\n",
    "from geemap import geemap"
   ]
  },
  {
   "cell_type": "code",
   "execution_count": 12,
   "metadata": {},
   "outputs": [],
   "source": [
    "def maskS2clouds(image):\n",
    "    cloudBitMask = ee.Number(2).pow(10).int()\n",
    "    cirrusBitMask = ee.Number(2).pow(11).int()\n",
    "    qa = image.select('QA60')\n",
    "    mask = qa.bitwiseAnd(cloudBitMask).eq(0).And(qa.bitwiseAnd(cirrusBitMask).eq(0))\n",
    "    return image.updateMask(mask)\n",
    "\n",
    "# rename bands\n",
    "#def renameS2bands(image):\n",
    "#    return image.rename('B', 'G', 'R', 'NIR', 'SWIR', 'SWIR2', 'QA60')\n",
    "def renameS2bands(image):\n",
    "    return image.rename('B2', 'B3', 'B4', 'B8', 'B11', 'B12')\n",
    "\n",
    "\n",
    "rgbVis = {\n",
    "  'min': 0.0,\n",
    "  'max': 3000,\n",
    "  'bands': ['B4', 'B3', 'B2'], \n",
    "}"
   ]
  },
  {
   "cell_type": "code",
   "execution_count": 3,
   "metadata": {},
   "outputs": [],
   "source": [
    "fp_train_ext1 = \"/home/markdj/Dropbox/artio/polesia/val/Vegetation_extent_rough.shp\"\n",
    "fp_roi = \"/home/markdj/Dropbox/artio/polesia/val/roi_rough.shp\""
   ]
  },
  {
   "cell_type": "code",
   "execution_count": 4,
   "metadata": {},
   "outputs": [],
   "source": [
    "roi_test = geemap.shp_to_ee(fp_roi)\n",
    "roi_train = geemap.shp_to_ee(fp_train_ext1)"
   ]
  },
  {
   "cell_type": "code",
   "execution_count": 76,
   "metadata": {},
   "outputs": [],
   "source": [
    "start_date_list=['2019-05-01']"
   ]
  },
  {
   "cell_type": "markdown",
   "metadata": {},
   "source": [
    "### mask cloud using QA60 band"
   ]
  },
  {
   "cell_type": "code",
   "execution_count": 28,
   "metadata": {},
   "outputs": [],
   "source": [
    "start_date = start_date_list[0]\n",
    "# load Sentinel-2 TOA reflectance data.\n",
    "s2collection = ee.ImageCollection('COPERNICUS/S2_SR') \\\n",
    "              .filterDate(start_date, ee.Date(start_date).advance(1, 'month')) \\\n",
    "              .filter(ee.Filter.lt('CLOUDY_PIXEL_PERCENTAGE', 50)) \\\n",
    "              .filterBounds(roi_train) \\\n",
    "              .select('B2', 'B3', 'B4', 'B8', 'B11', 'B12', 'QA60') \\\n",
    "              .map(maskS2clouds) #\\\n",
    "              #.map(renameS2bands)\n",
    "\n",
    "#Reduce the collection, and clip to train roi\n",
    "s2_median = s2collection.select('B2', 'B3', 'B4', 'B8', 'B11', 'B12').median().clip(roi_train.geometry())\n",
    "s2_min = s2collection.select('B2', 'B3', 'B4', 'B8', 'B11', 'B12').min().clip(roi_train.geometry())\n",
    "s2_max = s2collection.select('B2', 'B3', 'B4', 'B8', 'B11', 'B12').max().clip(roi_train.geometry())\n",
    "s2_75 = s2collection.select('B2', 'B3', 'B4', 'B8', 'B11', 'B12').reduce(ee.Reducer.percentile([75])).clip(roi_train.geometry())\n",
    "#Reducer.percentile has an outputNames arg, but don't think option to give names matching the input names \n",
    "s2_75 = renameS2bands(s2_75)\n",
    "\n",
    "# data stack\n",
    "#s2_multiple = s2_median.addBands(s2_min).addBands(s2_max)"
   ]
  },
  {
   "cell_type": "code",
   "execution_count": 42,
   "metadata": {
    "scrolled": false
   },
   "outputs": [
    {
     "data": {
      "application/vnd.jupyter.widget-view+json": {
       "model_id": "b629ed460082473da8ba5e5ad5245888",
       "version_major": 2,
       "version_minor": 0
      },
      "text/plain": [
       "Map(center=[51.85, 27.8], controls=(WidgetControl(options=['position', 'transparent_bg'], widget=HBox(children…"
      ]
     },
     "metadata": {},
     "output_type": "display_data"
    }
   ],
   "source": [
    "Map = geemap.Map(center=(51.85, 27.8), zoom=9)\n",
    "#Map.add_basemap('OpenStreetMap.BlackAndWhite')\n",
    "#Map.add_basemap('SATELLITE')\n",
    "\n",
    "Map.addLayer(s2_min, rgbVis, 's2min')\n",
    "Map.addLayer(s2_median, rgbVis, 's2med')\n",
    "Map.addLayer(s2_max, rgbVis, 's2max')\n",
    "Map.addLayer(s2_75, rgbVis, 's2p75')\n",
    "#Map.addLayer(roi_train, {}, 'ROI_train')\n",
    "#Map.addLayer(roi_test, {}, 'ROI_test')\n",
    "\n",
    "Map"
   ]
  },
  {
   "cell_type": "markdown",
   "metadata": {},
   "source": [
    "Cloud masking in the above is not very good... cloud visible in the median and 75 %ile images. The below compares the existing approach to a slightly different masking function from here: https://courses.spatialthoughts.com/end-to-end-gee.html"
   ]
  },
  {
   "cell_type": "code",
   "execution_count": 72,
   "metadata": {},
   "outputs": [
    {
     "data": {
      "application/vnd.jupyter.widget-view+json": {
       "model_id": "550a41e15aab40ff9a255e5c03dfba60",
       "version_major": 2,
       "version_minor": 0
      },
      "text/plain": [
       "Map(center=[12.658204357875261, 76.8410807013455], controls=(WidgetControl(options=['position', 'transparent_b…"
      ]
     },
     "metadata": {},
     "output_type": "display_data"
    }
   ],
   "source": [
    "# Get the Level-2A Surface Reflectance image\n",
    "imageSR = ee.Image('COPERNICUS/S2_SR/20190703T050701_20190703T052312_T43PGP')\n",
    "\n",
    "Map = geemap.Map(center=(51.85, 27.8), zoom=9)\n",
    "Map.centerObject(imageSR)\n",
    "\n",
    "# // Function to remove cloud and snow pixels from Sentinel-2 SR image\n",
    "# function maskCloudAndShadowsSR(image) {\n",
    "#   var cloudProb = image.select('MSK_CLDPRB');\n",
    "#   var snowProb = image.select('MSK_SNWPRB');\n",
    "#   var cloud = cloudProb.lt(5);\n",
    "#   var snow = snowProb.lt(5);\n",
    "#   var scl = image.select('SCL'); \n",
    "#   var shadow = scl.eq(3); // 3 = cloud shadow\n",
    "#   var cirrus = scl.eq(10); // 10 = cirrus\n",
    "#   // Cloud probability less than 5% or cloud shadow classification\n",
    "#   var mask = (cloud.and(snow)).and(cirrus.neq(1)).and(shadow.neq(1));\n",
    "#   return image.updateMask(mask);\n",
    "# }\n",
    "\n",
    "## Function to remove cloud and snow pixels from Sentinel-2 SR image\n",
    "## MdJ:i think if you want to use a function with 'map', you can't pass args?\n",
    "def maskCloudAndShadowsSR(image):\n",
    "    cloudProb = image.select('MSK_CLDPRB')\n",
    "    snowProb = image.select('MSK_SNWPRB')\n",
    "    cloud = cloudProb.lt(2)\n",
    "    snow = snowProb.lt(2)\n",
    "    scl = image.select('SCL') \n",
    "    shadow = scl.eq(3) # 3 = cloud shadow\n",
    "    cirrus = scl.eq(10) # 10 = cirrus\n",
    "    # Cloud probability less than 5% or cloud shadow classification\n",
    "    #mask = (cloud.and(snow)).and(cirrus.neq(1)).and(shadow.neq(1))\n",
    "    mask = (cloud.And(snow)).And(cirrus.neq(1)).And(shadow.neq(1))\n",
    "    return image.updateMask(mask)\n",
    "\n",
    "imageSRmasked1 = maskS2clouds(imageSR)\n",
    "imageSRmasked2 = maskCloudAndShadowsSR(imageSR)\n",
    "\n",
    "Map.addLayer(imageSR, rgbVis, 'SR Image')\n",
    "Map.addLayer(imageSRmasked1, rgbVis, 'SR Image masked1')\n",
    "Map.addLayer(imageSRmasked2, rgbVis, 'SR Image masked2')\n",
    "Map"
   ]
  },
  {
   "cell_type": "markdown",
   "metadata": {},
   "source": [
    "new approach looks better. let's try to apply it to the polesia composites..."
   ]
  },
  {
   "cell_type": "code",
   "execution_count": 82,
   "metadata": {
    "scrolled": false
   },
   "outputs": [
    {
     "data": {
      "application/vnd.jupyter.widget-view+json": {
       "model_id": "9c052cab44494b26bb99fb31e95ed0cd",
       "version_major": 2,
       "version_minor": 0
      },
      "text/plain": [
       "Map(center=[51.85, 27.8], controls=(WidgetControl(options=['position', 'transparent_bg'], widget=HBox(children…"
      ]
     },
     "metadata": {},
     "output_type": "display_data"
    }
   ],
   "source": [
    "start_date = start_date_list[0]\n",
    "# load Sentinel-2 TOA reflectance data.\n",
    "s2collection = ee.ImageCollection('COPERNICUS/S2_SR') \\\n",
    "              .filterDate(start_date, ee.Date(start_date).advance(3, 'month')) \\\n",
    "              .filter(ee.Filter.lt('CLOUDY_PIXEL_PERCENTAGE', 50)) \\\n",
    "              .filterBounds(roi_train) \\\n",
    "              .map(maskCloudAndShadowsSR) #\\\n",
    "              #.select('B2', 'B3', 'B4', 'B8', 'B11', 'B12', 'QA60') \\\n",
    "              #.map(renameS2bands)\n",
    "\n",
    "#Reduce the collection, and clip to train roi\n",
    "s2_median = s2collection.select('B2', 'B3', 'B4', 'B8', 'B11', 'B12').median().clip(roi_train.geometry())\n",
    "s2_min = s2collection.select('B2', 'B3', 'B4', 'B8', 'B11', 'B12').min().clip(roi_train.geometry())\n",
    "s2_max = s2collection.select('B2', 'B3', 'B4', 'B8', 'B11', 'B12').max().clip(roi_train.geometry())\n",
    "s2_75 = s2collection.select('B2', 'B3', 'B4', 'B8', 'B11', 'B12').reduce(ee.Reducer.percentile([75])).clip(roi_train.geometry())\n",
    "#Reducer.percentile has an outputNames arg, but don't think option to give names matching the input names \n",
    "s2_75 = renameS2bands(s2_75)\n",
    "\n",
    "# data stack\n",
    "#s2_multiple = s2_median.addBands(s2_min).addBands(s2_max)\n",
    "\n",
    "Map = geemap.Map(center=(51.85, 27.8), zoom=9)\n",
    "#Map.add_basemap('OpenStreetMap.BlackAndWhite')\n",
    "#Map.add_basemap('SATELLITE')\n",
    "\n",
    "Map.addLayer(s2_min, rgbVis, 's2min')\n",
    "Map.addLayer(s2_median, rgbVis, 's2med')\n",
    "Map.addLayer(s2_max, rgbVis, 's2max')\n",
    "#Map.addLayer(s2_75, rgbVis, 's2p75')\n",
    "\n",
    "#Map.addLayer(roi_train, {}, 'ROI_train')\n",
    "#Map.addLayer(roi_test, {}, 'ROI_test')\n",
    "\n",
    "Map"
   ]
  },
  {
   "cell_type": "markdown",
   "metadata": {},
   "source": [
    "while the above is much better than the first attempt, there are still a bunch of cloud edge artifacts in the max and 75%ile outputs even when cloud probability thresh is at it's strictest (<2). thinking about it, it makes sense that unless you have really good masking, you will always have contamination of min/max composits by cloud or cloud shadow. maybe better just using median to avoid these issues?\n",
    "\n",
    "median still contains some cloud not captured by the current makss, but seems to imporve when we aggregate over multiple months. so maybe doing a 3 month summer and winter composite is the best way forwards\n",
    "\n",
    "Also - try the cloudless product? https://developers.google.com/earth-engine/tutorials/community/sentinel-2-s2cloudless"
   ]
  },
  {
   "cell_type": "markdown",
   "metadata": {},
   "source": [
    "### S2A cloudless product\n",
    "most of this code is from here:\n",
    "\n",
    "https://developers.google.com/earth-engine/tutorials/community/sentinel-2-s2cloudless"
   ]
  },
  {
   "cell_type": "code",
   "execution_count": 86,
   "metadata": {},
   "outputs": [],
   "source": [
    "AOI = roi_train\n",
    "START_DATE = '2019-06-01'\n",
    "END_DATE = '2019-06-30'\n",
    "CLOUD_FILTER = 60       # filter scenes with cloud prop > X from collection\n",
    "CLD_PRB_THRESH = 40     # cloud prob > thresh = cloud\n",
    "NIR_DRK_THRESH = 0.15   # percentile used to determine dark non-water areas of scene using Band 8\n",
    "CLD_PRJ_DIST = 2        # max distnce (*10) for cloud shadows to be projected (units??)\n",
    "BUFFER = 100            # applied to mask cloud edges"
   ]
  },
  {
   "cell_type": "code",
   "execution_count": 87,
   "metadata": {},
   "outputs": [],
   "source": [
    "def get_s2_sr_cld_col(aoi, start_date, end_date):\n",
    "    # Import and filter S2 SR.\n",
    "    s2_sr_col = (ee.ImageCollection('COPERNICUS/S2_SR')\n",
    "        .filterBounds(aoi)\n",
    "        .filterDate(start_date, end_date)\n",
    "        .filter(ee.Filter.lte('CLOUDY_PIXEL_PERCENTAGE', CLOUD_FILTER)))\n",
    "\n",
    "    # Import and filter s2cloudless.\n",
    "    s2_cloudless_col = (ee.ImageCollection('COPERNICUS/S2_CLOUD_PROBABILITY')\n",
    "        .filterBounds(aoi)\n",
    "        .filterDate(start_date, end_date))\n",
    "\n",
    "    # Join the filtered s2cloudless collection to the SR collection by the 'system:index' property.\n",
    "    return ee.ImageCollection(ee.Join.saveFirst('s2cloudless').apply(**{\n",
    "        'primary': s2_sr_col,\n",
    "        'secondary': s2_cloudless_col,\n",
    "        'condition': ee.Filter.equals(**{\n",
    "            'leftField': 'system:index',\n",
    "            'rightField': 'system:index'\n",
    "        })\n",
    "    }))\n",
    "\n",
    "\n",
    "def add_cloud_bands(img):\n",
    "    # Get s2cloudless image, subset the probability band.\n",
    "    cld_prb = ee.Image(img.get('s2cloudless')).select('probability')\n",
    "\n",
    "    # Condition s2cloudless by the probability threshold value.\n",
    "    is_cloud = cld_prb.gt(CLD_PRB_THRESH).rename('clouds')\n",
    "\n",
    "    # Add the cloud probability layer and cloud mask as image bands.\n",
    "    return img.addBands(ee.Image([cld_prb, is_cloud]))\n",
    "\n",
    "\n",
    "def add_shadow_bands(img):\n",
    "    # Identify water pixels from the SCL band.\n",
    "    not_water = img.select('SCL').neq(6)\n",
    "\n",
    "    # Identify dark NIR pixels that are not water (potential cloud shadow pixels).\n",
    "    SR_BAND_SCALE = 1e4\n",
    "    dark_pixels = img.select('B8').lt(NIR_DRK_THRESH*SR_BAND_SCALE).multiply(not_water).rename('dark_pixels')\n",
    "\n",
    "    # Determine the direction to project cloud shadow from clouds (assumes UTM projection).\n",
    "    shadow_azimuth = ee.Number(90).subtract(ee.Number(img.get('MEAN_SOLAR_AZIMUTH_ANGLE')));\n",
    "\n",
    "    # Project shadows from clouds for the distance specified by the CLD_PRJ_DIST input.\n",
    "    cld_proj = (img.select('clouds').directionalDistanceTransform(shadow_azimuth, CLD_PRJ_DIST*10)\n",
    "        .reproject(**{'crs': img.select(0).projection(), 'scale': 100})\n",
    "        .select('distance')\n",
    "        .mask()\n",
    "        .rename('cloud_transform'))\n",
    "\n",
    "    # Identify the intersection of dark pixels with cloud shadow projection.\n",
    "    shadows = cld_proj.multiply(dark_pixels).rename('shadows')\n",
    "\n",
    "    # Add dark pixels, cloud projection, and identified shadows as image bands.\n",
    "    return img.addBands(ee.Image([dark_pixels, cld_proj, shadows]))\n",
    "\n",
    "\n",
    "def add_cld_shdw_mask(img):\n",
    "    # Add cloud component bands.\n",
    "    img_cloud = add_cloud_bands(img)\n",
    "\n",
    "    # Add cloud shadow component bands.\n",
    "    img_cloud_shadow = add_shadow_bands(img_cloud)\n",
    "\n",
    "    # Combine cloud and shadow mask, set cloud and shadow as value 1, else 0.\n",
    "    is_cld_shdw = img_cloud_shadow.select('clouds').add(img_cloud_shadow.select('shadows')).gt(0)\n",
    "\n",
    "    # Remove small cloud-shadow patches and dilate remaining pixels by BUFFER input.\n",
    "    # 20 m scale is for speed, and assumes clouds don't require 10 m precision.\n",
    "    is_cld_shdw = (is_cld_shdw.focal_min(2).focal_max(BUFFER*2/20)\n",
    "        .reproject(**{'crs': img.select([0]).projection(), 'scale': 20})\n",
    "        .rename('cloudmask'))\n",
    "\n",
    "    # Add the final cloud-shadow mask to the image.\n",
    "    return img_cloud_shadow.addBands(is_cld_shdw)\n",
    "\n",
    "\n",
    "def apply_cld_shdw_mask(img):\n",
    "    # Subset the cloudmask band and invert it so clouds/shadow are 0, else 1.\n",
    "    not_cld_shdw = img.select('cloudmask').Not()\n",
    "\n",
    "    # Subset reflectance bands and update their masks, return the result.\n",
    "    return img.select('B.*').updateMask(not_cld_shdw)"
   ]
  },
  {
   "cell_type": "code",
   "execution_count": 91,
   "metadata": {},
   "outputs": [],
   "source": [
    "s2_sr_cld_col = get_s2_sr_cld_col(AOI, START_DATE, END_DATE)\n",
    "\n",
    "# composites\n",
    "s2cldless_median = (s2_sr_cld_col.map(add_cld_shdw_mask)\n",
    "                             .map(apply_cld_shdw_mask)\n",
    "                             .median()\n",
    "                             .clip(roi_train.geometry()))\n",
    "s2cldless_min = (s2_sr_cld_col.map(add_cld_shdw_mask)\n",
    "                             .map(apply_cld_shdw_mask)\n",
    "                             .min()\n",
    "                             .clip(roi_train.geometry()))\n",
    "s2cldless_max = (s2_sr_cld_col.map(add_cld_shdw_mask)\n",
    "                             .map(apply_cld_shdw_mask)\n",
    "                             .max()\n",
    "                             .clip(roi_train.geometry()))"
   ]
  },
  {
   "cell_type": "code",
   "execution_count": 94,
   "metadata": {
    "scrolled": true
   },
   "outputs": [
    {
     "data": {
      "application/vnd.jupyter.widget-view+json": {
       "model_id": "69601d527b19447cb18262d4e2a01b19",
       "version_major": 2,
       "version_minor": 0
      },
      "text/plain": [
       "Map(center=[51.85, 27.8], controls=(WidgetControl(options=['position', 'transparent_bg'], widget=HBox(children…"
      ]
     },
     "metadata": {},
     "output_type": "display_data"
    }
   ],
   "source": [
    "Map = geemap.Map(center=(51.85, 27.8), zoom=9)\n",
    "#Map.add_basemap('OpenStreetMap.BlackAndWhite')\n",
    "#Map.add_basemap('SATELLITE')\n",
    "\n",
    "Map.addLayer(s2_min, rgbVis, 's2min')\n",
    "Map.addLayer(s2cldless_median, rgbVis, 's2s2cldless_medianmin')\n",
    "\n",
    "#Map.addLayer(s2_median, rgbVis, 's2_median')\n",
    "#Map.addLayer(s2cldless_median, rgbVis, 's2cldless_median')\n",
    "\n",
    "#Map.addLayer(s2_max, rgbVis, 's2_max')\n",
    "#Map.addLayer(s2cldless_max, rgbVis, 's2cldless_max')\n",
    "\n",
    "Map"
   ]
  },
  {
   "cell_type": "markdown",
   "metadata": {},
   "source": [
    "while far from perfect, the new S2cloudless based masking gives more visually pleasing composites - little visible residual cloud remains, and in other areas it leaves masked areas (gaps). \n",
    "\n",
    "Also can see in area of agriculture to the West of the map there are 'bubbles' of green crop in senesced crop indicating compositing in can result in artifacts even over short (month) long periods. However, this same area also looks a bit shit in the basic cloud mask version, but is 'patchy' rather than 'bubbly'\n"
   ]
  }
 ],
 "metadata": {
  "kernelspec": {
   "display_name": "Python 3",
   "language": "python",
   "name": "python3"
  },
  "language_info": {
   "codemirror_mode": {
    "name": "ipython",
    "version": 3
   },
   "file_extension": ".py",
   "mimetype": "text/x-python",
   "name": "python",
   "nbconvert_exporter": "python",
   "pygments_lexer": "ipython3",
   "version": "3.6.10"
  }
 },
 "nbformat": 4,
 "nbformat_minor": 4
}
