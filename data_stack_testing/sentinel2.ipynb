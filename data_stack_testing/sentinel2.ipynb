{
 "cells": [
  {
   "cell_type": "markdown",
   "metadata": {},
   "source": [
    "### testing S2 imagery composites\n",
    "https://developers.google.com/earth-engine/datasets/catalog/COPERNICUS_S2_SR\n",
    "\n",
    "So far 'max' composite from the S2A product is not very good (too much cloud). If want to use 'max' composites, might need to try 95th %ile rather than max, or possibly a more aggressive cloud mask. use of the 'S2A cloudless' product could be a good option for this: https://medium.com/google-earth/more-accurate-and-flexible-cloud-masking-for-sentinel-2-images-766897a9ba5f"
   ]
  },
  {
   "cell_type": "code",
   "execution_count": 1,
   "metadata": {},
   "outputs": [],
   "source": [
    "import ee\n",
    "from geemap import geemap"
   ]
  },
  {
   "cell_type": "code",
   "execution_count": 12,
   "metadata": {},
   "outputs": [],
   "source": [
    "def maskS2clouds(image):\n",
    "    cloudBitMask = ee.Number(2).pow(10).int()\n",
    "    cirrusBitMask = ee.Number(2).pow(11).int()\n",
    "    qa = image.select('QA60')\n",
    "    mask = qa.bitwiseAnd(cloudBitMask).eq(0).And(qa.bitwiseAnd(cirrusBitMask).eq(0))\n",
    "    return image.updateMask(mask)\n",
    "\n",
    "# rename bands\n",
    "#def renameS2bands(image):\n",
    "#    return image.rename('B', 'G', 'R', 'NIR', 'SWIR', 'SWIR2', 'QA60')\n",
    "def renameS2bands(image):\n",
    "    return image.rename('B2', 'B3', 'B4', 'B8', 'B11', 'B12')\n",
    "\n",
    "\n",
    "rgbVis = {\n",
    "  'min': 0.0,\n",
    "  'max': 3000,\n",
    "  'bands': ['B4', 'B3', 'B2'], \n",
    "}"
   ]
  },
  {
   "cell_type": "code",
   "execution_count": 3,
   "metadata": {},
   "outputs": [],
   "source": [
    "fp_train_ext1 = \"/home/markdj/Dropbox/artio/polesia/val/Vegetation_extent_rough.shp\"\n",
    "fp_roi = \"/home/markdj/Dropbox/artio/polesia/val/roi_rough.shp\""
   ]
  },
  {
   "cell_type": "code",
   "execution_count": 4,
   "metadata": {},
   "outputs": [],
   "source": [
    "roi_test = geemap.shp_to_ee(fp_roi)\n",
    "roi_train = geemap.shp_to_ee(fp_train_ext1)"
   ]
  },
  {
   "cell_type": "code",
   "execution_count": 76,
   "metadata": {},
   "outputs": [],
   "source": [
    "start_date_list=['2019-05-01']"
   ]
  },
  {
   "cell_type": "markdown",
   "metadata": {},
   "source": [
    "### mask cloud using QA60 band"
   ]
  },
  {
   "cell_type": "code",
   "execution_count": 28,
   "metadata": {},
   "outputs": [],
   "source": [
    "start_date = start_date_list[0]\n",
    "# load Sentinel-2 TOA reflectance data.\n",
    "s2collection = ee.ImageCollection('COPERNICUS/S2_SR') \\\n",
    "              .filterDate(start_date, ee.Date(start_date).advance(1, 'month')) \\\n",
    "              .filter(ee.Filter.lt('CLOUDY_PIXEL_PERCENTAGE', 50)) \\\n",
    "              .filterBounds(roi_train) \\\n",
    "              .select('B2', 'B3', 'B4', 'B8', 'B11', 'B12', 'QA60') \\\n",
    "              .map(maskS2clouds) #\\\n",
    "              #.map(renameS2bands)\n",
    "\n",
    "#Reduce the collection, and clip to train roi\n",
    "s2_median = s2collection.select('B2', 'B3', 'B4', 'B8', 'B11', 'B12').median().clip(roi_train.geometry())\n",
    "s2_min = s2collection.select('B2', 'B3', 'B4', 'B8', 'B11', 'B12').min().clip(roi_train.geometry())\n",
    "s2_max = s2collection.select('B2', 'B3', 'B4', 'B8', 'B11', 'B12').max().clip(roi_train.geometry())\n",
    "s2_75 = s2collection.select('B2', 'B3', 'B4', 'B8', 'B11', 'B12').reduce(ee.Reducer.percentile([75])).clip(roi_train.geometry())\n",
    "#Reducer.percentile has an outputNames arg, but don't think option to give names matching the input names \n",
    "s2_75 = renameS2bands(s2_75)\n",
    "\n",
    "# data stack\n",
    "#s2_multiple = s2_median.addBands(s2_min).addBands(s2_max)"
   ]
  },
  {
   "cell_type": "code",
   "execution_count": 42,
   "metadata": {
    "scrolled": false
   },
   "outputs": [
    {
     "data": {
      "application/vnd.jupyter.widget-view+json": {
       "model_id": "b629ed460082473da8ba5e5ad5245888",
       "version_major": 2,
       "version_minor": 0
      },
      "text/plain": [
       "Map(center=[51.85, 27.8], controls=(WidgetControl(options=['position', 'transparent_bg'], widget=HBox(children…"
      ]
     },
     "metadata": {},
     "output_type": "display_data"
    }
   ],
   "source": [
    "Map = geemap.Map(center=(51.85, 27.8), zoom=9)\n",
    "#Map.add_basemap('OpenStreetMap.BlackAndWhite')\n",
    "#Map.add_basemap('SATELLITE')\n",
    "\n",
    "Map.addLayer(s2_min, rgbVis, 's2min')\n",
    "Map.addLayer(s2_median, rgbVis, 's2med')\n",
    "Map.addLayer(s2_max, rgbVis, 's2max')\n",
    "Map.addLayer(s2_75, rgbVis, 's2p75')\n",
    "#Map.addLayer(roi_train, {}, 'ROI_train')\n",
    "#Map.addLayer(roi_test, {}, 'ROI_test')\n",
    "\n",
    "Map"
   ]
  },
  {
   "cell_type": "markdown",
   "metadata": {},
   "source": [
    "Cloud masking in the above is not very good... cloud visible in the median and 75 %ile images. The below compares the existing approach to a slightly different masking function from here: https://courses.spatialthoughts.com/end-to-end-gee.html"
   ]
  },
  {
   "cell_type": "code",
   "execution_count": 72,
   "metadata": {},
   "outputs": [
    {
     "data": {
      "application/vnd.jupyter.widget-view+json": {
       "model_id": "550a41e15aab40ff9a255e5c03dfba60",
       "version_major": 2,
       "version_minor": 0
      },
      "text/plain": [
       "Map(center=[12.658204357875261, 76.8410807013455], controls=(WidgetControl(options=['position', 'transparent_b…"
      ]
     },
     "metadata": {},
     "output_type": "display_data"
    }
   ],
   "source": [
    "# Get the Level-2A Surface Reflectance image\n",
    "imageSR = ee.Image('COPERNICUS/S2_SR/20190703T050701_20190703T052312_T43PGP')\n",
    "\n",
    "Map = geemap.Map(center=(51.85, 27.8), zoom=9)\n",
    "Map.centerObject(imageSR)\n",
    "\n",
    "# // Function to remove cloud and snow pixels from Sentinel-2 SR image\n",
    "# function maskCloudAndShadowsSR(image) {\n",
    "#   var cloudProb = image.select('MSK_CLDPRB');\n",
    "#   var snowProb = image.select('MSK_SNWPRB');\n",
    "#   var cloud = cloudProb.lt(5);\n",
    "#   var snow = snowProb.lt(5);\n",
    "#   var scl = image.select('SCL'); \n",
    "#   var shadow = scl.eq(3); // 3 = cloud shadow\n",
    "#   var cirrus = scl.eq(10); // 10 = cirrus\n",
    "#   // Cloud probability less than 5% or cloud shadow classification\n",
    "#   var mask = (cloud.and(snow)).and(cirrus.neq(1)).and(shadow.neq(1));\n",
    "#   return image.updateMask(mask);\n",
    "# }\n",
    "\n",
    "## Function to remove cloud and snow pixels from Sentinel-2 SR image\n",
    "## MdJ:i think if you want to use a function with 'map', you can't pass args?\n",
    "def maskCloudAndShadowsSR(image):\n",
    "    cloudProb = image.select('MSK_CLDPRB')\n",
    "    snowProb = image.select('MSK_SNWPRB')\n",
    "    cloud = cloudProb.lt(2)\n",
    "    snow = snowProb.lt(2)\n",
    "    scl = image.select('SCL') \n",
    "    shadow = scl.eq(3) # 3 = cloud shadow\n",
    "    cirrus = scl.eq(10) # 10 = cirrus\n",
    "    # Cloud probability less than 5% or cloud shadow classification\n",
    "    #mask = (cloud.and(snow)).and(cirrus.neq(1)).and(shadow.neq(1))\n",
    "    mask = (cloud.And(snow)).And(cirrus.neq(1)).And(shadow.neq(1))\n",
    "    return image.updateMask(mask)\n",
    "\n",
    "imageSRmasked1 = maskS2clouds(imageSR)\n",
    "imageSRmasked2 = maskCloudAndShadowsSR(imageSR)\n",
    "\n",
    "Map.addLayer(imageSR, rgbVis, 'SR Image')\n",
    "Map.addLayer(imageSRmasked1, rgbVis, 'SR Image masked1')\n",
    "Map.addLayer(imageSRmasked2, rgbVis, 'SR Image masked2')\n",
    "Map"
   ]
  },
  {
   "cell_type": "markdown",
   "metadata": {},
   "source": [
    "new approach looks better. let's try to apply it to the polesia composites..."
   ]
  },
  {
   "cell_type": "code",
   "execution_count": 82,
   "metadata": {
    "scrolled": false
   },
   "outputs": [
    {
     "data": {
      "application/vnd.jupyter.widget-view+json": {
       "model_id": "9c052cab44494b26bb99fb31e95ed0cd",
       "version_major": 2,
       "version_minor": 0
      },
      "text/plain": [
       "Map(center=[51.85, 27.8], controls=(WidgetControl(options=['position', 'transparent_bg'], widget=HBox(children…"
      ]
     },
     "metadata": {},
     "output_type": "display_data"
    }
   ],
   "source": [
    "start_date = start_date_list[0]\n",
    "# load Sentinel-2 TOA reflectance data.\n",
    "s2collection = ee.ImageCollection('COPERNICUS/S2_SR') \\\n",
    "              .filterDate(start_date, ee.Date(start_date).advance(3, 'month')) \\\n",
    "              .filter(ee.Filter.lt('CLOUDY_PIXEL_PERCENTAGE', 50)) \\\n",
    "              .filterBounds(roi_train) \\\n",
    "              .map(maskCloudAndShadowsSR) #\\\n",
    "              #.select('B2', 'B3', 'B4', 'B8', 'B11', 'B12', 'QA60') \\\n",
    "              #.map(renameS2bands)\n",
    "\n",
    "#Reduce the collection, and clip to train roi\n",
    "s2_median = s2collection.select('B2', 'B3', 'B4', 'B8', 'B11', 'B12').median().clip(roi_train.geometry())\n",
    "s2_min = s2collection.select('B2', 'B3', 'B4', 'B8', 'B11', 'B12').min().clip(roi_train.geometry())\n",
    "s2_max = s2collection.select('B2', 'B3', 'B4', 'B8', 'B11', 'B12').max().clip(roi_train.geometry())\n",
    "s2_75 = s2collection.select('B2', 'B3', 'B4', 'B8', 'B11', 'B12').reduce(ee.Reducer.percentile([75])).clip(roi_train.geometry())\n",
    "#Reducer.percentile has an outputNames arg, but don't think option to give names matching the input names \n",
    "s2_75 = renameS2bands(s2_75)\n",
    "\n",
    "# data stack\n",
    "#s2_multiple = s2_median.addBands(s2_min).addBands(s2_max)\n",
    "\n",
    "Map = geemap.Map(center=(51.85, 27.8), zoom=9)\n",
    "#Map.add_basemap('OpenStreetMap.BlackAndWhite')\n",
    "#Map.add_basemap('SATELLITE')\n",
    "\n",
    "Map.addLayer(s2_min, rgbVis, 's2min')\n",
    "Map.addLayer(s2_median, rgbVis, 's2med')\n",
    "Map.addLayer(s2_max, rgbVis, 's2max')\n",
    "#Map.addLayer(s2_75, rgbVis, 's2p75')\n",
    "\n",
    "#Map.addLayer(roi_train, {}, 'ROI_train')\n",
    "#Map.addLayer(roi_test, {}, 'ROI_test')\n",
    "\n",
    "Map"
   ]
  },
  {
   "cell_type": "markdown",
   "metadata": {},
   "source": [
    "while the above is much better than the first attempt, there are still a bunch of cloud edge artifacts in the max and 75%ile outputs even when cloud probability thresh is at it's strictest (<2). thinking about it, it makes sense that unless you have really good masking, you will always have contamination of min/max composits by cloud or cloud shadow. maybe better just using median to avoid these issues?\n",
    "\n",
    "median still contains some cloud not captured by the current makss, but seems to imporve when we aggregate over multiple months. so maybe doing a 3 month summer and winter composite is the best way forwards\n",
    "\n",
    "Also - try the cloudless product? https://developers.google.com/earth-engine/tutorials/community/sentinel-2-s2cloudless"
   ]
  }
 ],
 "metadata": {
  "kernelspec": {
   "display_name": "Python 3",
   "language": "python",
   "name": "python3"
  },
  "language_info": {
   "codemirror_mode": {
    "name": "ipython",
    "version": 3
   },
   "file_extension": ".py",
   "mimetype": "text/x-python",
   "name": "python",
   "nbconvert_exporter": "python",
   "pygments_lexer": "ipython3",
   "version": "3.6.10"
  }
 },
 "nbformat": 4,
 "nbformat_minor": 4
}
