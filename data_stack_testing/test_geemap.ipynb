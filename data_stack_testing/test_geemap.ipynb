{
 "cells": [
  {
   "cell_type": "markdown",
   "metadata": {},
   "source": [
    "exploring various geemap capabilities"
   ]
  },
  {
   "cell_type": "code",
   "execution_count": 84,
   "metadata": {},
   "outputs": [],
   "source": [
    "import ee\n",
    "from geemap import geemap"
   ]
  },
  {
   "cell_type": "code",
   "execution_count": 85,
   "metadata": {},
   "outputs": [
    {
     "data": {
      "application/vnd.jupyter.widget-view+json": {
       "model_id": "596add9c9e1947dc9695d12888dfdd54",
       "version_major": 2,
       "version_minor": 0
      },
      "text/plain": [
       "Map(center=[52, 28], controls=(WidgetControl(options=['position', 'transparent_bg'], widget=HBox(children=(Tog…"
      ]
     },
     "metadata": {},
     "output_type": "display_data"
    }
   ],
   "source": [
    "Map = geemap.Map(center=(52, 28), zoom=8)\n",
    "#Map.add_basemap('OpenStreetMap.BlackAndWhite')\n",
    "#Map.add_basemap('SATELLITE')\n",
    "Map"
   ]
  },
  {
   "cell_type": "markdown",
   "metadata": {},
   "source": [
    "get training data"
   ]
  },
  {
   "cell_type": "code",
   "execution_count": 86,
   "metadata": {},
   "outputs": [],
   "source": [
    "fp_train_ext1 = \"/home/markdj/Dropbox/artio/polesia/val/Vegetation_extent_rough.shp\"\n",
    "fp_roi = \"/home/markdj/Dropbox/artio/polesia/val/roi_rough.shp\"\n",
    "fp_train = \"/home/markdj/Dropbox/artio/polesia/val/Polesie-vegetation/Vegetation.shp\""
   ]
  },
  {
   "cell_type": "code",
   "execution_count": 87,
   "metadata": {},
   "outputs": [],
   "source": [
    "roi = geemap.shp_to_ee(fp_roi)\n",
    "train_ext = geemap.shp_to_ee(fp_train_ext1)\n",
    "#train = geemap.shp_to_ee(fp_train)"
   ]
  },
  {
   "cell_type": "markdown",
   "metadata": {},
   "source": [
    "visualisation is incredibly slow for the full training poly, probably dont do this."
   ]
  },
  {
   "cell_type": "code",
   "execution_count": null,
   "metadata": {},
   "outputs": [],
   "source": [
    "#poly.first().getInfo()\n",
    "#Map.addLayer(train, {}, 'Vegetation')"
   ]
  },
  {
   "cell_type": "markdown",
   "metadata": {},
   "source": [
    "get inputs"
   ]
  },
  {
   "cell_type": "markdown",
   "metadata": {},
   "source": [
    "### look at GSW dataset\n",
    "https://developers.google.com/earth-engine/datasets/catalog/JRC_GSW1_3_GlobalSurfaceWater#bands"
   ]
  },
  {
   "cell_type": "code",
   "execution_count": 6,
   "metadata": {},
   "outputs": [],
   "source": [
    "gsw = ee.Image('JRC/GSW1_3/GlobalSurfaceWater').select(['occurrence','seasonality','recurrence', 'max_extent'])"
   ]
  },
  {
   "cell_type": "code",
   "execution_count": 7,
   "metadata": {},
   "outputs": [],
   "source": [
    "gsw_occ_vis = {\n",
    "  'bands': ['occurrence'],\n",
    "  'min': 0.0,\n",
    "  'max': 100.0,\n",
    "  'palette': ['ffffff', 'ffbbbb', '0000ff']\n",
    "}\n",
    "gsw_bin_vis = {\n",
    "  'bands': ['max_extent'],\n",
    "  'min': 0,\n",
    "  'max': 1,\n",
    "  'palette': ['ffffff', 'ffbbbb', '0000ff']\n",
    "}\n",
    "gsw_recurrence_vis = {\n",
    "  'bands': ['recurrence'],\n",
    "  'min': 0.0,\n",
    "  'max': 100.0,\n",
    "  'palette': ['ffffff', 'ffbbbb', '0000ff']\n",
    "}\n",
    "# Add Earth Engine DEM to map\n",
    "Map.addLayer(gsw, gsw_occ_vis, 'occurence')\n",
    "Map.addLayer(gsw, gsw_bin_vis, 'max_extent')\n",
    "Map.addLayer(gsw, gsw_recurrence_vis, 'recurrence')"
   ]
  },
  {
   "cell_type": "code",
   "execution_count": 79,
   "metadata": {},
   "outputs": [],
   "source": [
    "Map.addLayer(roi, {}, 'ROI')\n",
    "Map.addLayer(train_ext, {}, 'train_ext')"
   ]
  },
  {
   "cell_type": "markdown",
   "metadata": {},
   "source": [
    "### demo S2 imagery\n",
    "https://developers.google.com/earth-engine/datasets/catalog/COPERNICUS_S2_SR\n",
    "\n",
    "\n",
    "S2A cloudless product could be a good option: https://medium.com/google-earth/more-accurate-and-flexible-cloud-masking-for-sentinel-2-images-766897a9ba5f"
   ]
  },
  {
   "cell_type": "code",
   "execution_count": 88,
   "metadata": {},
   "outputs": [],
   "source": [
    "def maskS2clouds(image):\n",
    "    cloudBitMask = ee.Number(2).pow(10).int()\n",
    "    cirrusBitMask = ee.Number(2).pow(11).int()\n",
    "    qa = image.select('QA60')\n",
    "    mask = qa.bitwiseAnd(cloudBitMask).eq(0).And(qa.bitwiseAnd(cirrusBitMask).eq(0))\n",
    "    return image.updateMask(mask)\n",
    "\n",
    "\n",
    "# rename bands\n",
    "def renameS2bands(image):\n",
    "    return image.rename('B', 'G', 'R', 'NIR', 'SWIR', 'SWIR2', 'QA60')\n",
    "\n",
    "\n",
    "rgbVis = {\n",
    "  'min': 0.0,\n",
    "  'max': 3000,\n",
    "  'bands': ['B4', 'B3', 'B2'], \n",
    "}"
   ]
  },
  {
   "cell_type": "code",
   "execution_count": 83,
   "metadata": {},
   "outputs": [],
   "source": [
    "# Define filters for collection generation\n",
    "filters = [#ee.Filter.listContains(\"transmitterReceiverPolarisation\", \"VV\"),\n",
    "           #ee.Filter.listContains(\"transmitterReceiverPolarisation\", \"VH\"),\n",
    "           #ee.Filter.equals(\"instrumentMode\", \"IW\"),\n",
    "           ee.Filter.lt('CLOUDY_PIXEL_PERCENTAGE', 50), \n",
    "           ee.Filter.geometry(train_ext.geometry()),\n",
    "           ee.Filter.date('2019-06-01', ee.Date('2019-06-01').advance(1, 'month'))\n",
    "           ]\n",
    "\n",
    "# var filtered = s2.filter(ee.Filter.lt('CLOUDY_PIXEL_PERCENTAGE', 30))\n",
    "#   .filter(ee.Filter.date('2019-01-01', '2020-01-01'))\n",
    "#   .filter(ee.Filter.bounds(geometry))\n",
    "\n",
    "# Load S2 collection with filters\n",
    "s2 = ee.ImageCollection(\"COPERNICUS/S2_SR\").filter(filters).map(maskS2clouds)\n",
    "median = s2.median()\n",
    "clipped = median.clip(train_ext.geometry())\n",
    "Map.addLayer(clipped, rgbVis, 'Clipped')\n"
   ]
  },
  {
   "cell_type": "code",
   "execution_count": 89,
   "metadata": {},
   "outputs": [],
   "source": [
    "\n",
    "# load Sentinel-2 TOA reflectance data.\n",
    "s2collection = ee.ImageCollection('COPERNICUS/S2_SR') \\\n",
    "              .filterDate('2019-05-01', '2019-08-31') \\\n",
    "              .filter(ee.Filter.lt('CLOUDY_PIXEL_PERCENTAGE', 50)) \\\n",
    "              .filterBounds(roi) \\\n",
    "              .select('B2', 'B3', 'B4', 'B8', 'B11', 'B12', 'QA60') \\\n",
    "              .map(maskS2clouds) #\\\n",
    "              #.map(renameS2bands)\n",
    "\n",
    "#Reduce the first collection (median reducer in this case)\n",
    "s2_median = s2collection.select('B2', 'B3', 'B4', 'B8', 'B11', 'B12').median()\n",
    "s2_min = s2collection.select('B2', 'B3', 'B4', 'B8', 'B11', 'B12').min()\n",
    "s2_max = s2collection.select('B2', 'B3', 'B4', 'B8', 'B11', 'B12').max()\n",
    "s2_multiple = s2_median.addBands(s2_min).addBands(s2_max)\n",
    "\n",
    "Map.addLayer(s2_median, rgbVis, 's2med')\n",
    "Map.addLayer(s2_min, rgbVis, 's2min')\n",
    "Map.addLayer(s2_max, rgbVis, 's2max')\n"
   ]
  },
  {
   "cell_type": "markdown",
   "metadata": {},
   "source": [
    "## demo below here ##"
   ]
  },
  {
   "cell_type": "code",
   "execution_count": 70,
   "metadata": {},
   "outputs": [
    {
     "name": "stdout",
     "output_type": "stream",
     "text": [
      "Converting Earth Engine JavaScripts to Python scripts...\n",
      "\n",
      "Processing 1/1: /home/markdj/repos/gee/test/prac3a.js\n",
      "Python scripts saved at: /home/markdj/repos/gee/test/\n"
     ]
    }
   ],
   "source": [
    "# either pull the git repo, \n",
    "#git clone https://earthengine.googlesource.com/users/<user>/<repo>   (cant figure out pw used for this? not email?)\n",
    "#or just copy paste from https://earthengine.googlesource.com/users/<mdejong>/\n",
    "# convert a .js to a .py\n",
    "from geemap.conversion import *\n",
    "\n",
    "in_dir = '/home/markdj/repos/gee/test/'\n",
    "js_to_python_dir(in_dir=in_dir, out_dir=in_dir, use_qgis=True)\n",
    "print(\"Python scripts saved at: {}\".format(in_dir))"
   ]
  },
  {
   "cell_type": "code",
   "execution_count": 23,
   "metadata": {},
   "outputs": [
    {
     "data": {
      "application/vnd.jupyter.widget-view+json": {
       "model_id": "fc34bbe1f4cf447a9b016bb33f716db0",
       "version_major": 2,
       "version_minor": 0
      },
      "text/plain": [
       "Map(center=[40, -100], controls=(WidgetControl(options=['position', 'transparent_bg'], widget=HBox(children=(T…"
      ]
     },
     "metadata": {},
     "output_type": "display_data"
    }
   ],
   "source": [
    "m = geemap.Map()\n",
    "m.basemap_demo()\n",
    "m"
   ]
  },
  {
   "cell_type": "code",
   "execution_count": null,
   "metadata": {
    "scrolled": false
   },
   "outputs": [],
   "source": [
    "# Add Earth Engine dataset\n",
    "dem = ee.Image('USGS/SRTMGL1_003')\n",
    "landcover = ee.Image(\"ESA/GLOBCOVER_L4_200901_200912_V2_3\").select('landcover')\n",
    "landsat7 = ee.Image('LE7_TOA_5YEAR/1999_2003').select(['B1', 'B2', 'B3', 'B4', 'B5', 'B7'])\n",
    "states = ee.FeatureCollection(\"TIGER/2018/States\")\n",
    "\n",
    "# Set visualization parameters.\n",
    "vis_params = {\n",
    "  'min': 0,\n",
    "  'max': 4000,\n",
    "  'palette': ['006633', 'E5FFCC', '662A00', 'D8D8D8', 'F5F5F5']}\n",
    "\n",
    "# Add Earth Eninge layers to Map\n",
    "Map.addLayer(dem, vis_params, 'SRTM DEM', True, 0.5)\n",
    "Map.addLayer(landcover, {}, 'Land cover')\n",
    "Map.addLayer(landsat7, {'bands': ['B4', 'B3', 'B2'], 'min': 20, 'max': 200, 'gamma': 2.0}, 'Landsat 7')\n",
    "Map.addLayer(states, {}, \"US States\")\n",
    "\n",
    "Map"
   ]
  }
 ],
 "metadata": {
  "kernelspec": {
   "display_name": "Python 3",
   "language": "python",
   "name": "python3"
  },
  "language_info": {
   "codemirror_mode": {
    "name": "ipython",
    "version": 3
   },
   "file_extension": ".py",
   "mimetype": "text/x-python",
   "name": "python",
   "nbconvert_exporter": "python",
   "pygments_lexer": "ipython3",
   "version": "3.6.10"
  }
 },
 "nbformat": 4,
 "nbformat_minor": 4
}
